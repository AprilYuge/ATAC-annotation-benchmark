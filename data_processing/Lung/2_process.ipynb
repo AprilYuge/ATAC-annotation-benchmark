{
 "cells": [
  {
   "cell_type": "markdown",
   "id": "30696834",
   "metadata": {},
   "source": [
    "# Lung"
   ]
  },
  {
   "cell_type": "code",
   "execution_count": 1,
   "id": "afbbf927",
   "metadata": {},
   "outputs": [
    {
     "name": "stderr",
     "output_type": "stream",
     "text": [
      "Attaching SeuratObject\n",
      "\n",
      "Attaching sp\n",
      "\n",
      "Registered S3 method overwritten by 'SeuratDisk':\n",
      "  method            from  \n",
      "  as.sparse.H5Group Seurat\n",
      "\n",
      "Loading required package: ensembldb\n",
      "\n",
      "Loading required package: BiocGenerics\n",
      "\n",
      "\n",
      "Attaching package: ‘BiocGenerics’\n",
      "\n",
      "\n",
      "The following objects are masked from ‘package:stats’:\n",
      "\n",
      "    IQR, mad, sd, var, xtabs\n",
      "\n",
      "\n",
      "The following objects are masked from ‘package:base’:\n",
      "\n",
      "    anyDuplicated, append, as.data.frame, basename, cbind, colnames,\n",
      "    dirname, do.call, duplicated, eval, evalq, Filter, Find, get, grep,\n",
      "    grepl, intersect, is.unsorted, lapply, Map, mapply, match, mget,\n",
      "    order, paste, pmax, pmax.int, pmin, pmin.int, Position, rank,\n",
      "    rbind, Reduce, rownames, sapply, setdiff, sort, table, tapply,\n",
      "    union, unique, unsplit, which.max, which.min\n",
      "\n",
      "\n",
      "Loading required package: GenomicRanges\n",
      "\n",
      "Loading required package: stats4\n",
      "\n",
      "Loading required package: S4Vectors\n",
      "\n",
      "\n",
      "Attaching package: ‘S4Vectors’\n",
      "\n",
      "\n",
      "The following objects are masked from ‘package:Matrix’:\n",
      "\n",
      "    expand, unname\n",
      "\n",
      "\n",
      "The following objects are masked from ‘package:base’:\n",
      "\n",
      "    expand.grid, I, unname\n",
      "\n",
      "\n",
      "Loading required package: IRanges\n",
      "\n",
      "\n",
      "Attaching package: ‘IRanges’\n",
      "\n",
      "\n",
      "The following object is masked from ‘package:sp’:\n",
      "\n",
      "    %over%\n",
      "\n",
      "\n",
      "Loading required package: GenomeInfoDb\n",
      "\n",
      "Loading required package: GenomicFeatures\n",
      "\n",
      "Loading required package: AnnotationDbi\n",
      "\n",
      "Loading required package: Biobase\n",
      "\n",
      "Welcome to Bioconductor\n",
      "\n",
      "    Vignettes contain introductory material; view with\n",
      "    'browseVignettes()'. To cite Bioconductor, see\n",
      "    'citation(\"Biobase\")', and for packages 'citation(\"pkgname\")'.\n",
      "\n",
      "\n",
      "Loading required package: AnnotationFilter\n",
      "\n",
      "\n",
      "Attaching package: 'ensembldb'\n",
      "\n",
      "\n",
      "The following object is masked from 'package:stats':\n",
      "\n",
      "    filter\n",
      "\n",
      "\n",
      "\n",
      "Attaching package: 'anndata'\n",
      "\n",
      "\n",
      "The following object is masked from 'package:readr':\n",
      "\n",
      "    read_csv\n",
      "\n",
      "\n",
      "\n",
      "Attaching package: 'dplyr'\n",
      "\n",
      "\n",
      "The following objects are masked from 'package:ensembldb':\n",
      "\n",
      "    filter, select\n",
      "\n",
      "\n",
      "The following object is masked from 'package:AnnotationDbi':\n",
      "\n",
      "    select\n",
      "\n",
      "\n",
      "The following object is masked from 'package:Biobase':\n",
      "\n",
      "    combine\n",
      "\n",
      "\n",
      "The following objects are masked from 'package:GenomicRanges':\n",
      "\n",
      "    intersect, setdiff, union\n",
      "\n",
      "\n",
      "The following object is masked from 'package:GenomeInfoDb':\n",
      "\n",
      "    intersect\n",
      "\n",
      "\n",
      "The following objects are masked from 'package:IRanges':\n",
      "\n",
      "    collapse, desc, intersect, setdiff, slice, union\n",
      "\n",
      "\n",
      "The following objects are masked from 'package:S4Vectors':\n",
      "\n",
      "    first, intersect, rename, setdiff, setequal, union\n",
      "\n",
      "\n",
      "The following objects are masked from 'package:BiocGenerics':\n",
      "\n",
      "    combine, intersect, setdiff, union\n",
      "\n",
      "\n",
      "The following objects are masked from 'package:stats':\n",
      "\n",
      "    filter, lag\n",
      "\n",
      "\n",
      "The following objects are masked from 'package:base':\n",
      "\n",
      "    intersect, setdiff, setequal, union\n",
      "\n",
      "\n"
     ]
    }
   ],
   "source": [
    "setwd('/gpfs/gibbs/pi/zhao/xs272/prep_pipeline/')\n",
    "library(Matrix)\n",
    "library(readr)\n",
    "library(purrr)\n",
    "source('/gpfs/gibbs/pi/zhao/xs272/data_preprocess/utils.r')\n",
    "source('/gpfs/gibbs/pi/zhao/xs272/Multiomics/sc_benchmark/scripts/utils.r')"
   ]
  },
  {
   "cell_type": "markdown",
   "id": "6b478df9",
   "metadata": {},
   "source": [
    "## 1. Unimodal RNA preprocessing\n",
    "### FACS"
   ]
  },
  {
   "cell_type": "code",
   "execution_count": 58,
   "id": "963098f2",
   "metadata": {},
   "outputs": [],
   "source": [
    "smart.path <- '/gpfs/gibbs/pi/zhao/yw599/Multiome/data/MouseAtlas/RNA/FACS'\n",
    "smart.rna.mat <- read.csv(file.path(smart.path, 'Lung-counts.csv'))\n",
    "\n",
    "smart.rna.mat.mat <- as(data.matrix(smart.rna.mat[, -1]), 'dgCMatrix')\n",
    "\n",
    "rownames(smart.rna.mat.mat) <- format.genes(smart.rna.mat[, 1])\n",
    "colnames(smart.rna.mat.mat) <- colnames(smart.rna.mat)[-1]"
   ]
  },
  {
   "cell_type": "code",
   "execution_count": 59,
   "id": "afec70b9",
   "metadata": {},
   "outputs": [],
   "source": [
    "smart.rna.mat <- smart.rna.mat.mat"
   ]
  },
  {
   "cell_type": "code",
   "execution_count": 32,
   "id": "4113186f",
   "metadata": {},
   "outputs": [
    {
     "data": {
      "text/html": [
       "FALSE"
      ],
      "text/latex": [
       "FALSE"
      ],
      "text/markdown": [
       "FALSE"
      ],
      "text/plain": [
       "[1] FALSE"
      ]
     },
     "metadata": {},
     "output_type": "display_data"
    }
   ],
   "source": [
    "any(duplicated(colnames(smart.rna.mat), colnames(smart.rna.mat)))"
   ]
  },
  {
   "cell_type": "code",
   "execution_count": 33,
   "id": "04ab6ddb",
   "metadata": {},
   "outputs": [
    {
     "name": "stdout",
     "output_type": "stream",
     "text": [
      "[1] \"No NA.\"\n",
      "[1] \"No NA rows.\"\n",
      "[1] \"No NA cols.\"\n",
      "[1] \"Dimension of count:\"\n",
      "[1] 23433  1923\n"
     ]
    }
   ],
   "source": [
    "print.count.dim(smart.rna.mat)"
   ]
  },
  {
   "cell_type": "code",
   "execution_count": 34,
   "id": "8a2634b2",
   "metadata": {},
   "outputs": [],
   "source": [
    "facs.anno.file <- '/gpfs/gibbs/pi/zhao/yw599/Multiome/data/MouseAtlas/RNA/annotations_facs_lung.csv'\n",
    "facs.anno.table <- read.csv(facs.anno.file)"
   ]
  },
  {
   "cell_type": "code",
   "execution_count": 35,
   "id": "6e0a5595",
   "metadata": {},
   "outputs": [
    {
     "name": "stdout",
     "output_type": "stream",
     "text": [
      "[1] \"Length1, Length2, Length intersection, identical:\"\n",
      "[1] \"1923 1676 1676 FALSE\"\n"
     ]
    }
   ],
   "source": [
    "facs.count <- smart.rna.mat\n",
    "print.names.match(colnames(facs.count), facs.anno.table$cell)"
   ]
  },
  {
   "cell_type": "code",
   "execution_count": 36,
   "id": "ea476245",
   "metadata": {},
   "outputs": [],
   "source": [
    "facs.count <- facs.count[, facs.anno.table$cell]\n",
    "facs.anno <- facs.anno.table$annotation"
   ]
  },
  {
   "cell_type": "code",
   "execution_count": 37,
   "id": "5434d1e5",
   "metadata": {},
   "outputs": [
    {
     "name": "stdout",
     "output_type": "stream",
     "text": [
      "[1] \"No NA.\"\n",
      "[1] \"No NA rows.\"\n",
      "[1] \"No NA cols.\"\n",
      "[1] \"Dimension of count:\"\n",
      "[1] 23433  1676\n"
     ]
    }
   ],
   "source": [
    "print.count.dim(facs.count)"
   ]
  },
  {
   "cell_type": "markdown",
   "id": "496fa26e",
   "metadata": {},
   "source": [
    "### droplet (10x)"
   ]
  },
  {
   "cell_type": "code",
   "execution_count": 38,
   "id": "137e2291",
   "metadata": {},
   "outputs": [],
   "source": [
    "droplet.path <- '/gpfs/gibbs/pi/zhao/yw599/Multiome/data/MouseAtlas/RNA/droplet/'\n",
    "droplet.folders <- dir(droplet.path, full.names = FALSE, pattern = 'Lung')"
   ]
  },
  {
   "cell_type": "code",
   "execution_count": 39,
   "id": "1dd645cc",
   "metadata": {},
   "outputs": [],
   "source": [
    "droplet.list <- map(droplet.folders, \n",
    "                    ~ list(\n",
    "                        counts = readMM(file.path(droplet.path, .x, 'matrix.mtx')), \n",
    "                        barcodes = format.barcode(readLines(file.path(droplet.path, .x, 'barcodes.tsv'))), \n",
    "                        genes = format.genes(read.table(file.path(droplet.path, .x, 'genes.tsv'))[,1])\n",
    "                        )\n",
    "                   ) %>% setNames(droplet.folders)"
   ]
  },
  {
   "cell_type": "code",
   "execution_count": 40,
   "id": "015349dd",
   "metadata": {
    "scrolled": true
   },
   "outputs": [
    {
     "data": {
      "text/html": [
       "4"
      ],
      "text/latex": [
       "4"
      ],
      "text/markdown": [
       "4"
      ],
      "text/plain": [
       "[1] 4"
      ]
     },
     "metadata": {},
     "output_type": "display_data"
    }
   ],
   "source": [
    "length(droplet.list)"
   ]
  },
  {
   "cell_type": "code",
   "execution_count": 41,
   "id": "a520be18",
   "metadata": {
    "scrolled": true
   },
   "outputs": [
    {
     "name": "stdout",
     "output_type": "stream",
     "text": [
      "[1] \"Length1, Length2, Length intersection, identical:\"\n",
      "[1] \"23433 23433 23433 TRUE\"\n",
      "[1] \"Length1, Length2, Length intersection, identical:\"\n",
      "[1] \"23433 23433 23433 TRUE\"\n",
      "[1] \"Length1, Length2, Length intersection, identical:\"\n",
      "[1] \"23433 23433 23433 TRUE\"\n",
      "[1] \"Length1, Length2, Length intersection, identical:\"\n",
      "[1] \"23433 23433 23433 TRUE\"\n",
      "[1] \"Length1, Length2, Length intersection, identical:\"\n",
      "[1] \"23433 23433 23433 TRUE\"\n",
      "[1] \"Length1, Length2, Length intersection, identical:\"\n",
      "[1] \"23433 23433 23433 TRUE\"\n",
      "[1] \"Length1, Length2, Length intersection, identical:\"\n",
      "[1] \"23433 23433 23433 TRUE\"\n",
      "[1] \"Length1, Length2, Length intersection, identical:\"\n",
      "[1] \"23433 23433 23433 TRUE\"\n",
      "[1] \"Length1, Length2, Length intersection, identical:\"\n",
      "[1] \"23433 23433 23433 TRUE\"\n",
      "[1] \"Length1, Length2, Length intersection, identical:\"\n",
      "[1] \"23433 23433 23433 TRUE\"\n"
     ]
    }
   ],
   "source": [
    "for (i in 1:length(droplet.list)) {\n",
    "    for (j in 1:i) {\n",
    "        print.names.match(droplet.list[[i]]$genes, droplet.list[[j]]$genes)\n",
    "    }\n",
    "}"
   ]
  },
  {
   "cell_type": "code",
   "execution_count": 42,
   "id": "2f553606",
   "metadata": {},
   "outputs": [],
   "source": [
    "fix.droplet <- function(tuple, name) {\n",
    "    add_name <- gsub('.*(?=10X)', '', name, perl=TRUE)\n",
    "    barcodes <- tuple$barcodes\n",
    "    barcodes <- paste(add_name, barcodes, sep='_')\n",
    "    counts <- tuple$counts\n",
    "    genes <- tuple$genes\n",
    "    colnames(counts) <- barcodes\n",
    "    rownames(counts) <- genes\n",
    "    counts\n",
    "}"
   ]
  },
  {
   "cell_type": "code",
   "execution_count": 43,
   "id": "2c6916e0",
   "metadata": {},
   "outputs": [],
   "source": [
    "droplet.list.proc <- map2(droplet.list, names(droplet.list), \n",
    "                    fix.droplet\n",
    "                   )"
   ]
  },
  {
   "cell_type": "code",
   "execution_count": 44,
   "id": "db193bd2",
   "metadata": {
    "scrolled": true
   },
   "outputs": [
    {
     "name": "stdout",
     "output_type": "stream",
     "text": [
      "[1] TRUE\n",
      "[1] TRUE\n",
      "[1] TRUE\n",
      "[1] TRUE\n",
      "[1] TRUE\n",
      "[1] TRUE\n",
      "[1] TRUE\n",
      "[1] TRUE\n",
      "[1] TRUE\n",
      "[1] TRUE\n"
     ]
    }
   ],
   "source": [
    "for (i in 1:length(droplet.list)) {\n",
    "    for (j in 1:i) {\n",
    "        print(identical(droplet.list[[i]]$genes, droplet.list[[j]]$genes))\n",
    "    }\n",
    "}"
   ]
  },
  {
   "cell_type": "code",
   "execution_count": 45,
   "id": "0994dcd8",
   "metadata": {},
   "outputs": [],
   "source": [
    "droplet.counts <- do.call(cbind, droplet.list.proc)"
   ]
  },
  {
   "cell_type": "code",
   "execution_count": 46,
   "id": "8d63cb91",
   "metadata": {},
   "outputs": [
    {
     "name": "stdout",
     "output_type": "stream",
     "text": [
      "[1] \"No NA.\"\n",
      "[1] \"No NA rows.\"\n",
      "[1] \"No NA cols.\"\n",
      "[1] \"Dimension of count:\"\n",
      "[1]   23433 1476710\n"
     ]
    }
   ],
   "source": [
    "print.count.dim(droplet.counts)"
   ]
  },
  {
   "cell_type": "code",
   "execution_count": 47,
   "id": "1cd077e8",
   "metadata": {},
   "outputs": [],
   "source": [
    "droplet.anno.file <- '/gpfs/gibbs/pi/zhao/yw599/Multiome/data/MouseAtlas/RNA/annotations_droplet_lung.csv'\n",
    "droplet.anno <- read.csv(droplet.anno.file)"
   ]
  },
  {
   "cell_type": "code",
   "execution_count": 48,
   "id": "600a2612",
   "metadata": {
    "scrolled": true
   },
   "outputs": [
    {
     "name": "stdout",
     "output_type": "stream",
     "text": [
      "[1] \"Length1, Length2, Length intersection, identical:\"\n",
      "[1] \"1476710 5404 5404 FALSE\"\n"
     ]
    }
   ],
   "source": [
    "print.names.match(colnames(droplet.counts), droplet.anno$cell)"
   ]
  },
  {
   "cell_type": "code",
   "execution_count": 49,
   "id": "b4a7ef14",
   "metadata": {},
   "outputs": [],
   "source": [
    "droplet.counts <- droplet.counts[, droplet.anno$cell]\n",
    "droplet.anno <- droplet.anno$annotation"
   ]
  },
  {
   "cell_type": "code",
   "execution_count": 50,
   "id": "d9463b31",
   "metadata": {},
   "outputs": [
    {
     "name": "stdout",
     "output_type": "stream",
     "text": [
      "[1] \"No NA.\"\n",
      "[1] \"No NA rows.\"\n",
      "[1] \"No NA cols.\"\n",
      "[1] \"Dimension of count:\"\n",
      "[1] 23433  5404\n"
     ]
    }
   ],
   "source": [
    "print.count.dim(droplet.counts)"
   ]
  },
  {
   "cell_type": "code",
   "execution_count": 61,
   "id": "368543d6",
   "metadata": {
    "scrolled": true
   },
   "outputs": [
    {
     "name": "stdout",
     "output_type": "stream",
     "text": [
      "[1] \"Length1, Length2, Length intersection, identical:\"\n",
      "[1] \"23433 23433 23433 FALSE\"\n"
     ]
    }
   ],
   "source": [
    "print.names.match(rownames(droplet.counts), rownames(facs.count))"
   ]
  },
  {
   "cell_type": "code",
   "execution_count": 62,
   "id": "7cbd5bc0",
   "metadata": {},
   "outputs": [],
   "source": [
    "droplet.counts <- droplet.counts[rownames(facs.count), ]"
   ]
  },
  {
   "cell_type": "code",
   "execution_count": 63,
   "id": "ef1eb024",
   "metadata": {},
   "outputs": [
    {
     "name": "stdout",
     "output_type": "stream",
     "text": [
      "[1] \"Length1, Length2, Length intersection, identical:\"\n",
      "[1] \"23433 23433 23433 TRUE\"\n"
     ]
    }
   ],
   "source": [
    "print.names.match(rownames(droplet.counts), rownames(facs.count))"
   ]
  },
  {
   "cell_type": "markdown",
   "id": "83047800",
   "metadata": {},
   "source": [
    "## 2. Unimodal Gene Activity (sci-ATAC-seq)"
   ]
  },
  {
   "cell_type": "code",
   "execution_count": 64,
   "id": "466bc60c",
   "metadata": {},
   "outputs": [],
   "source": [
    "sci.ga.path <- '/gpfs/gibbs/pi/zhao/yw599/Multiome/data/MouseAtlas/ATAC'\n",
    "sci.ga.mat <- readMM(file.path(sci.ga.path, 'activity_scores.quantitative.mtx.gz'))\n",
    "sci.ga.genes <- readLines(file.path(sci.ga.path, 'activity_scores.quantitative.genes.txt'))\n",
    "sci.ga.cells <- readLines(file.path(sci.ga.path, 'activity_scores.quantitative.cells.txt'))"
   ]
  },
  {
   "cell_type": "code",
   "execution_count": 65,
   "id": "198256d5",
   "metadata": {},
   "outputs": [
    {
     "data": {
      "text/html": [
       "FALSE"
      ],
      "text/latex": [
       "FALSE"
      ],
      "text/markdown": [
       "FALSE"
      ],
      "text/plain": [
       "[1] FALSE"
      ]
     },
     "metadata": {},
     "output_type": "display_data"
    }
   ],
   "source": [
    "any(duplicated(format.genes(sci.ga.genes)))"
   ]
  },
  {
   "cell_type": "code",
   "execution_count": 66,
   "id": "d6d5b2bf",
   "metadata": {},
   "outputs": [],
   "source": [
    "sci.ga.mat <- set.names(counts = sci.ga.mat, rowname = format.genes(sci.ga.genes), colname = sci.ga.cells)"
   ]
  },
  {
   "cell_type": "code",
   "execution_count": 67,
   "id": "7358956d",
   "metadata": {},
   "outputs": [],
   "source": [
    "sci.ga.annot <- read.csv(file.path(sci.ga.path, 'cell_metadata.tissue_freq_filtered_lung.txt'))"
   ]
  },
  {
   "cell_type": "code",
   "execution_count": 68,
   "id": "dd3bed8e",
   "metadata": {},
   "outputs": [
    {
     "data": {
      "text/html": [
       "FALSE"
      ],
      "text/latex": [
       "FALSE"
      ],
      "text/markdown": [
       "FALSE"
      ],
      "text/plain": [
       "[1] FALSE"
      ]
     },
     "metadata": {},
     "output_type": "display_data"
    }
   ],
   "source": [
    "any(duplicated(sci.ga.annot$cell))"
   ]
  },
  {
   "cell_type": "code",
   "execution_count": 69,
   "id": "7b0db967",
   "metadata": {
    "scrolled": true
   },
   "outputs": [
    {
     "data": {
      "text/html": [
       "'Lung'"
      ],
      "text/latex": [
       "'Lung'"
      ],
      "text/markdown": [
       "'Lung'"
      ],
      "text/plain": [
       "[1] \"Lung\""
      ]
     },
     "metadata": {},
     "output_type": "display_data"
    }
   ],
   "source": [
    "unique(sci.ga.annot$tissue)"
   ]
  },
  {
   "cell_type": "code",
   "execution_count": 70,
   "id": "e7e8a5a2",
   "metadata": {},
   "outputs": [
    {
     "name": "stdout",
     "output_type": "stream",
     "text": [
      "[1] \"Length1, Length2, Length intersection, identical:\"\n",
      "[1] \"9924 81173 9924 FALSE\"\n"
     ]
    }
   ],
   "source": [
    "print.names.match(sci.ga.annot$cell, colnames(sci.ga.mat))"
   ]
  },
  {
   "cell_type": "code",
   "execution_count": 71,
   "id": "8836d304",
   "metadata": {},
   "outputs": [],
   "source": [
    "sci.ga.mat <- sci.ga.mat[, sci.ga.annot$cell]"
   ]
  },
  {
   "cell_type": "markdown",
   "id": "2b031cb6",
   "metadata": {},
   "source": [
    "## 3. Align unimodal RNA and ATAC gene activities\n",
    "gene names  \n",
    "cell types  "
   ]
  },
  {
   "cell_type": "code",
   "execution_count": 72,
   "id": "699a0699",
   "metadata": {},
   "outputs": [
    {
     "name": "stdout",
     "output_type": "stream",
     "text": [
      "[1] \"Length1, Length2, Length intersection, identical:\"\n",
      "[1] \"23433 20783 17165 FALSE\"\n"
     ]
    }
   ],
   "source": [
    "print.names.match(rownames(facs.count), rownames(sci.ga.mat))"
   ]
  },
  {
   "cell_type": "code",
   "execution_count": 74,
   "id": "1e95408c",
   "metadata": {},
   "outputs": [
    {
     "name": "stdout",
     "output_type": "stream",
     "text": [
      "[1] \"Length1, Length2, Length intersection, identical:\"\n",
      "[1] \"23433 20783 17165 FALSE\"\n"
     ]
    }
   ],
   "source": [
    "print.names.match(rownames(droplet.counts), rownames(sci.ga.mat))"
   ]
  },
  {
   "cell_type": "code",
   "execution_count": 75,
   "id": "0fadc769",
   "metadata": {},
   "outputs": [
    {
     "data": {
      "text/html": [
       "<style>\n",
       ".list-inline {list-style: none; margin:0; padding: 0}\n",
       ".list-inline>li {display: inline-block}\n",
       ".list-inline>li:not(:last-child)::after {content: \"\\00b7\"; padding: 0 .5ex}\n",
       "</style>\n",
       "<ol class=list-inline><li>'B cell'</li><li>'Endothelial cell'</li><li>'Leukocyte'</li><li>'Monocyte'</li><li>'Multiciliated cell'</li><li>'Myeloid cell'</li><li>'NK cell'</li><li>'Pneumocyte'</li><li>'Stromal cell'</li><li>'T cell'</li></ol>\n"
      ],
      "text/latex": [
       "\\begin{enumerate*}\n",
       "\\item 'B cell'\n",
       "\\item 'Endothelial cell'\n",
       "\\item 'Leukocyte'\n",
       "\\item 'Monocyte'\n",
       "\\item 'Multiciliated cell'\n",
       "\\item 'Myeloid cell'\n",
       "\\item 'NK cell'\n",
       "\\item 'Pneumocyte'\n",
       "\\item 'Stromal cell'\n",
       "\\item 'T cell'\n",
       "\\end{enumerate*}\n"
      ],
      "text/markdown": [
       "1. 'B cell'\n",
       "2. 'Endothelial cell'\n",
       "3. 'Leukocyte'\n",
       "4. 'Monocyte'\n",
       "5. 'Multiciliated cell'\n",
       "6. 'Myeloid cell'\n",
       "7. 'NK cell'\n",
       "8. 'Pneumocyte'\n",
       "9. 'Stromal cell'\n",
       "10. 'T cell'\n",
       "\n",
       "\n"
      ],
      "text/plain": [
       " [1] \"B cell\"             \"Endothelial cell\"   \"Leukocyte\"         \n",
       " [4] \"Monocyte\"           \"Multiciliated cell\" \"Myeloid cell\"      \n",
       " [7] \"NK cell\"            \"Pneumocyte\"         \"Stromal cell\"      \n",
       "[10] \"T cell\"            "
      ]
     },
     "metadata": {},
     "output_type": "display_data"
    }
   ],
   "source": [
    "sort(unique(facs.anno))"
   ]
  },
  {
   "cell_type": "code",
   "execution_count": 76,
   "id": "c90d6dbc",
   "metadata": {},
   "outputs": [
    {
     "data": {
      "text/html": [
       "<style>\n",
       ".list-inline {list-style: none; margin:0; padding: 0}\n",
       ".list-inline>li {display: inline-block}\n",
       ".list-inline>li:not(:last-child)::after {content: \"\\00b7\"; padding: 0 .5ex}\n",
       "</style>\n",
       "<ol class=list-inline><li>'Alveolar macrophage'</li><li>'B cell'</li><li>'Endothelial cell'</li><li>'Leukocyte'</li><li>'Monocyte'</li><li>'Multiciliated cell'</li><li>'Myeloid cell'</li><li>'NK cell'</li><li>'Pneumocyte'</li><li>'Stromal cell'</li><li>'T cell'</li></ol>\n"
      ],
      "text/latex": [
       "\\begin{enumerate*}\n",
       "\\item 'Alveolar macrophage'\n",
       "\\item 'B cell'\n",
       "\\item 'Endothelial cell'\n",
       "\\item 'Leukocyte'\n",
       "\\item 'Monocyte'\n",
       "\\item 'Multiciliated cell'\n",
       "\\item 'Myeloid cell'\n",
       "\\item 'NK cell'\n",
       "\\item 'Pneumocyte'\n",
       "\\item 'Stromal cell'\n",
       "\\item 'T cell'\n",
       "\\end{enumerate*}\n"
      ],
      "text/markdown": [
       "1. 'Alveolar macrophage'\n",
       "2. 'B cell'\n",
       "3. 'Endothelial cell'\n",
       "4. 'Leukocyte'\n",
       "5. 'Monocyte'\n",
       "6. 'Multiciliated cell'\n",
       "7. 'Myeloid cell'\n",
       "8. 'NK cell'\n",
       "9. 'Pneumocyte'\n",
       "10. 'Stromal cell'\n",
       "11. 'T cell'\n",
       "\n",
       "\n"
      ],
      "text/plain": [
       " [1] \"Alveolar macrophage\" \"B cell\"              \"Endothelial cell\"   \n",
       " [4] \"Leukocyte\"           \"Monocyte\"            \"Multiciliated cell\" \n",
       " [7] \"Myeloid cell\"        \"NK cell\"             \"Pneumocyte\"         \n",
       "[10] \"Stromal cell\"        \"T cell\"             "
      ]
     },
     "metadata": {},
     "output_type": "display_data"
    }
   ],
   "source": [
    "sort(unique(droplet.anno))"
   ]
  },
  {
   "cell_type": "code",
   "execution_count": 77,
   "id": "04815e57",
   "metadata": {},
   "outputs": [
    {
     "data": {
      "text/html": [
       "<style>\n",
       ".list-inline {list-style: none; margin:0; padding: 0}\n",
       ".list-inline>li {display: inline-block}\n",
       ".list-inline>li:not(:last-child)::after {content: \"\\00b7\"; padding: 0 .5ex}\n",
       "</style>\n",
       "<ol class=list-inline><li>'Alveolar macrophage'</li><li>'B cell'</li><li>'Collision'</li><li>'Dendritic cell'</li><li>'Endothelial cell'</li><li>'Hematopoietic progenitor'</li><li>'Macrophage'</li><li>'Monocyte'</li><li>'NK cell'</li><li>'Pneumocyte'</li><li>'T cell'</li><li>'Unknown'</li></ol>\n"
      ],
      "text/latex": [
       "\\begin{enumerate*}\n",
       "\\item 'Alveolar macrophage'\n",
       "\\item 'B cell'\n",
       "\\item 'Collision'\n",
       "\\item 'Dendritic cell'\n",
       "\\item 'Endothelial cell'\n",
       "\\item 'Hematopoietic progenitor'\n",
       "\\item 'Macrophage'\n",
       "\\item 'Monocyte'\n",
       "\\item 'NK cell'\n",
       "\\item 'Pneumocyte'\n",
       "\\item 'T cell'\n",
       "\\item 'Unknown'\n",
       "\\end{enumerate*}\n"
      ],
      "text/markdown": [
       "1. 'Alveolar macrophage'\n",
       "2. 'B cell'\n",
       "3. 'Collision'\n",
       "4. 'Dendritic cell'\n",
       "5. 'Endothelial cell'\n",
       "6. 'Hematopoietic progenitor'\n",
       "7. 'Macrophage'\n",
       "8. 'Monocyte'\n",
       "9. 'NK cell'\n",
       "10. 'Pneumocyte'\n",
       "11. 'T cell'\n",
       "12. 'Unknown'\n",
       "\n",
       "\n"
      ],
      "text/plain": [
       " [1] \"Alveolar macrophage\"      \"B cell\"                  \n",
       " [3] \"Collision\"                \"Dendritic cell\"          \n",
       " [5] \"Endothelial cell\"         \"Hematopoietic progenitor\"\n",
       " [7] \"Macrophage\"               \"Monocyte\"                \n",
       " [9] \"NK cell\"                  \"Pneumocyte\"              \n",
       "[11] \"T cell\"                   \"Unknown\"                 "
      ]
     },
     "metadata": {},
     "output_type": "display_data"
    }
   ],
   "source": [
    "sort(unique(sci.ga.annot$annotation))"
   ]
  },
  {
   "cell_type": "code",
   "execution_count": 78,
   "id": "e44ee787",
   "metadata": {},
   "outputs": [
    {
     "name": "stdout",
     "output_type": "stream",
     "text": [
      "[1] \"Length1, Length2, Length intersection, identical:\"\n",
      "[1] \"10 12 6 FALSE\"\n"
     ]
    }
   ],
   "source": [
    "print.names.match(unique(facs.anno), unique(sci.ga.annot$annotation))"
   ]
  },
  {
   "cell_type": "code",
   "execution_count": 79,
   "id": "d0598d3d",
   "metadata": {},
   "outputs": [
    {
     "name": "stdout",
     "output_type": "stream",
     "text": [
      "[1] \"Length1, Length2, Length intersection, identical:\"\n",
      "[1] \"11 12 7 FALSE\"\n"
     ]
    }
   ],
   "source": [
    "print.names.match(unique(droplet.anno), unique(sci.ga.annot$annotation))"
   ]
  },
  {
   "cell_type": "code",
   "execution_count": 81,
   "id": "df1e0038",
   "metadata": {},
   "outputs": [
    {
     "name": "stderr",
     "output_type": "stream",
     "text": [
      "Warning message in dir.create(folder, recursive = TRUE):\n",
      "\"'lung/FACS' already exists\"\n"
     ]
    }
   ],
   "source": [
    "facs.path <- 'lung/FACS/'\n",
    "write.counts.transpose(facs.count, facs.path)\n",
    "write.annotation(facs.anno, facs.path)"
   ]
  },
  {
   "cell_type": "code",
   "execution_count": 82,
   "id": "c9e4fa3f",
   "metadata": {},
   "outputs": [
    {
     "name": "stderr",
     "output_type": "stream",
     "text": [
      "Warning message in dir.create(folder, recursive = TRUE):\n",
      "\"'lung/droplet' already exists\"\n"
     ]
    }
   ],
   "source": [
    "droplet.path <- 'lung/droplet/'\n",
    "write.counts.transpose(droplet.counts, droplet.path)\n",
    "write.annotation(droplet.anno, droplet.path)"
   ]
  },
  {
   "cell_type": "code",
   "execution_count": 83,
   "id": "2daca83a",
   "metadata": {},
   "outputs": [
    {
     "name": "stderr",
     "output_type": "stream",
     "text": [
      "Warning message in dir.create(folder, recursive = TRUE):\n",
      "\"'lung/sci-atac_gene_activities' already exists\"\n"
     ]
    }
   ],
   "source": [
    "sci.ga.path <- 'lung/sci-atac_gene_activities/'\n",
    "write.counts.transpose(sci.ga.mat, sci.ga.path)\n",
    "write.annotation(sci.ga.annot$annotation, sci.ga.path)"
   ]
  },
  {
   "cell_type": "markdown",
   "id": "fb8fbc5a",
   "metadata": {},
   "source": [
    "## 4. Unimodal ATAC (sci-ATAC-seq)"
   ]
  },
  {
   "cell_type": "code",
   "execution_count": 84,
   "id": "24437be2",
   "metadata": {},
   "outputs": [],
   "source": [
    "atac.peak.path = 'tmp/sci_atac'\n",
    "system(paste0('mkdir -p ', atac.peak.path))\n",
    "atac.bin.path <- \"/gpfs/gibbs/pi/zhao/yw599/Multiome/data/MouseAtlas/ATAC/atac_matrix.binary.qc_filtered.mtx.gz\""
   ]
  },
  {
   "cell_type": "code",
   "execution_count": 27,
   "id": "a806f54e",
   "metadata": {},
   "outputs": [],
   "source": [
    "system(paste0('bash bin2int_mtx.sh -z -i ', atac.bin.path, ' -o ', atac.peak.path, '/counts_int.mtx'))"
   ]
  },
  {
   "cell_type": "code",
   "execution_count": 85,
   "id": "aaf05dba",
   "metadata": {},
   "outputs": [],
   "source": [
    "sci.atac.path <- '/gpfs/gibbs/pi/zhao/yw599/Multiome/data/MouseAtlas/ATAC/'\n",
    "sci.atac.counts <- readMM(file.path(atac.peak.path, 'counts_int.mtx'))\n",
    "sci.atac.barcodes <- readLines(file.path(sci.atac.path, 'atac_matrix.binary.qc_filtered.cells.txt'))\n",
    "sci.atac.peaks <- readLines(file.path(sci.atac.path, 'atac_matrix.binary.qc_filtered.peaks.txt'))"
   ]
  },
  {
   "cell_type": "code",
   "execution_count": 86,
   "id": "6fb01b12",
   "metadata": {},
   "outputs": [],
   "source": [
    "sci.atac.counts <- set.names(counts = sci.atac.counts, rowname = format.peaks(sci.atac.peaks), colname = sci.atac.barcodes)"
   ]
  },
  {
   "cell_type": "code",
   "execution_count": 87,
   "id": "0727bec3",
   "metadata": {},
   "outputs": [],
   "source": [
    "sci.atac.annot <- read.csv(file.path(sci.atac.path, 'cell_metadata.tissue_freq_filtered_lung.txt'))"
   ]
  },
  {
   "cell_type": "code",
   "execution_count": 88,
   "id": "50f41cdf",
   "metadata": {
    "scrolled": true
   },
   "outputs": [
    {
     "data": {
      "text/html": [
       "FALSE"
      ],
      "text/latex": [
       "FALSE"
      ],
      "text/markdown": [
       "FALSE"
      ],
      "text/plain": [
       "[1] FALSE"
      ]
     },
     "metadata": {},
     "output_type": "display_data"
    }
   ],
   "source": [
    "any(duplicated(sci.atac.annot$cell))"
   ]
  },
  {
   "cell_type": "code",
   "execution_count": 89,
   "id": "bfdedad7",
   "metadata": {},
   "outputs": [
    {
     "data": {
      "text/html": [
       "'Lung'"
      ],
      "text/latex": [
       "'Lung'"
      ],
      "text/markdown": [
       "'Lung'"
      ],
      "text/plain": [
       "[1] \"Lung\""
      ]
     },
     "metadata": {},
     "output_type": "display_data"
    }
   ],
   "source": [
    "unique(sci.atac.annot$tissue)"
   ]
  },
  {
   "cell_type": "code",
   "execution_count": 90,
   "id": "da473d76",
   "metadata": {
    "scrolled": true
   },
   "outputs": [
    {
     "name": "stdout",
     "output_type": "stream",
     "text": [
      "[1] \"Length1, Length2, Length intersection, identical:\"\n",
      "[1] \"9924 81173 9924 FALSE\"\n"
     ]
    }
   ],
   "source": [
    "print.names.match(sci.atac.annot$cell, colnames(sci.atac.counts))"
   ]
  },
  {
   "cell_type": "code",
   "execution_count": 91,
   "id": "238fba4e",
   "metadata": {},
   "outputs": [],
   "source": [
    "sci.atac.counts <- sci.atac.counts[, sci.atac.annot$cell]"
   ]
  },
  {
   "cell_type": "code",
   "execution_count": 93,
   "id": "ca7f135d",
   "metadata": {},
   "outputs": [
    {
     "data": {
      "text/html": [
       "TRUE"
      ],
      "text/latex": [
       "TRUE"
      ],
      "text/markdown": [
       "TRUE"
      ],
      "text/plain": [
       "[1] TRUE"
      ]
     },
     "metadata": {},
     "output_type": "display_data"
    }
   ],
   "source": [
    "identical(colnames(sci.atac.counts), colnames(sci.ga.mat))"
   ]
  },
  {
   "cell_type": "code",
   "execution_count": 92,
   "id": "4b64dd0d",
   "metadata": {},
   "outputs": [
    {
     "name": "stderr",
     "output_type": "stream",
     "text": [
      "Warning message in dir.create(folder, recursive = TRUE):\n",
      "\"'lung/sci-atac' already exists\"\n"
     ]
    }
   ],
   "source": [
    "# for seurat.\n",
    "sci.atac.path <- 'lung/sci-atac'\n",
    "write.counts.transpose(sci.atac.counts, sci.atac.path)\n",
    "write.annotation(sci.atac.annot$annotation, sci.atac.path)"
   ]
  }
 ],
 "metadata": {
  "kernelspec": {
   "display_name": "R 4.0.3",
   "language": "R",
   "name": "ir"
  },
  "language_info": {
   "codemirror_mode": "r",
   "file_extension": ".r",
   "mimetype": "text/x-r-source",
   "name": "R",
   "pygments_lexer": "r",
   "version": "4.0.3"
  }
 },
 "nbformat": 4,
 "nbformat_minor": 5
}
