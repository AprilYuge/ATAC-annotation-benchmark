{
 "cells": [
  {
   "cell_type": "markdown",
   "id": "30696834",
   "metadata": {},
   "source": [
    "# Brain"
   ]
  },
  {
   "cell_type": "code",
   "execution_count": 2,
   "id": "afbbf927",
   "metadata": {},
   "outputs": [
    {
     "name": "stderr",
     "output_type": "stream",
     "text": [
      "Attaching SeuratObject\n",
      "\n",
      "Attaching sp\n",
      "\n",
      "Registered S3 method overwritten by 'SeuratDisk':\n",
      "  method            from  \n",
      "  as.sparse.H5Group Seurat\n",
      "\n",
      "Loading required package: ensembldb\n",
      "\n",
      "Loading required package: BiocGenerics\n",
      "\n",
      "\n",
      "Attaching package: ‘BiocGenerics’\n",
      "\n",
      "\n",
      "The following objects are masked from ‘package:stats’:\n",
      "\n",
      "    IQR, mad, sd, var, xtabs\n",
      "\n",
      "\n",
      "The following objects are masked from ‘package:base’:\n",
      "\n",
      "    anyDuplicated, append, as.data.frame, basename, cbind, colnames,\n",
      "    dirname, do.call, duplicated, eval, evalq, Filter, Find, get, grep,\n",
      "    grepl, intersect, is.unsorted, lapply, Map, mapply, match, mget,\n",
      "    order, paste, pmax, pmax.int, pmin, pmin.int, Position, rank,\n",
      "    rbind, Reduce, rownames, sapply, setdiff, sort, table, tapply,\n",
      "    union, unique, unsplit, which.max, which.min\n",
      "\n",
      "\n",
      "Loading required package: GenomicRanges\n",
      "\n",
      "Loading required package: stats4\n",
      "\n",
      "Loading required package: S4Vectors\n",
      "\n",
      "\n",
      "Attaching package: ‘S4Vectors’\n",
      "\n",
      "\n",
      "The following objects are masked from ‘package:Matrix’:\n",
      "\n",
      "    expand, unname\n",
      "\n",
      "\n",
      "The following objects are masked from ‘package:base’:\n",
      "\n",
      "    expand.grid, I, unname\n",
      "\n",
      "\n",
      "Loading required package: IRanges\n",
      "\n",
      "\n",
      "Attaching package: ‘IRanges’\n",
      "\n",
      "\n",
      "The following object is masked from ‘package:sp’:\n",
      "\n",
      "    %over%\n",
      "\n",
      "\n",
      "Loading required package: GenomeInfoDb\n",
      "\n",
      "Loading required package: GenomicFeatures\n",
      "\n",
      "Loading required package: AnnotationDbi\n",
      "\n",
      "Loading required package: Biobase\n",
      "\n",
      "Welcome to Bioconductor\n",
      "\n",
      "    Vignettes contain introductory material; view with\n",
      "    'browseVignettes()'. To cite Bioconductor, see\n",
      "    'citation(\"Biobase\")', and for packages 'citation(\"pkgname\")'.\n",
      "\n",
      "\n",
      "Loading required package: AnnotationFilter\n",
      "\n",
      "\n",
      "Attaching package: 'ensembldb'\n",
      "\n",
      "\n",
      "The following object is masked from 'package:stats':\n",
      "\n",
      "    filter\n",
      "\n",
      "\n",
      "\n",
      "Attaching package: 'anndata'\n",
      "\n",
      "\n",
      "The following object is masked from 'package:readr':\n",
      "\n",
      "    read_csv\n",
      "\n",
      "\n",
      "\n",
      "Attaching package: 'dplyr'\n",
      "\n",
      "\n",
      "The following objects are masked from 'package:ensembldb':\n",
      "\n",
      "    filter, select\n",
      "\n",
      "\n",
      "The following object is masked from 'package:AnnotationDbi':\n",
      "\n",
      "    select\n",
      "\n",
      "\n",
      "The following object is masked from 'package:Biobase':\n",
      "\n",
      "    combine\n",
      "\n",
      "\n",
      "The following objects are masked from 'package:GenomicRanges':\n",
      "\n",
      "    intersect, setdiff, union\n",
      "\n",
      "\n",
      "The following object is masked from 'package:GenomeInfoDb':\n",
      "\n",
      "    intersect\n",
      "\n",
      "\n",
      "The following objects are masked from 'package:IRanges':\n",
      "\n",
      "    collapse, desc, intersect, setdiff, slice, union\n",
      "\n",
      "\n",
      "The following objects are masked from 'package:S4Vectors':\n",
      "\n",
      "    first, intersect, rename, setdiff, setequal, union\n",
      "\n",
      "\n",
      "The following objects are masked from 'package:BiocGenerics':\n",
      "\n",
      "    combine, intersect, setdiff, union\n",
      "\n",
      "\n",
      "The following objects are masked from 'package:stats':\n",
      "\n",
      "    filter, lag\n",
      "\n",
      "\n",
      "The following objects are masked from 'package:base':\n",
      "\n",
      "    intersect, setdiff, setequal, union\n",
      "\n",
      "\n"
     ]
    }
   ],
   "source": [
    "setwd('/gpfs/gibbs/pi/zhao/xs272/prep_pipeline/')\n",
    "library(Matrix)\n",
    "library(readr)\n",
    "source('/gpfs/gibbs/pi/zhao/xs272/data_preprocess/utils.r')\n",
    "source('/gpfs/gibbs/pi/zhao/xs272/Multiomics/sc_benchmark/scripts/utils.r')"
   ]
  },
  {
   "cell_type": "markdown",
   "id": "6b478df9",
   "metadata": {},
   "source": [
    "## 1. Unimodal RNA preprocessing\n",
    "FACS"
   ]
  },
  {
   "cell_type": "code",
   "execution_count": null,
   "id": "963098f2",
   "metadata": {},
   "outputs": [],
   "source": [
    "smart.path <- '/gpfs/gibbs/pi/zhao/yw599/Multiome/data/MouseAtlas/RNA/FACS'\n",
    "smart.rna.m <- read.csv(file.path(smart.path, 'Brain_Myeloid-counts.csv'))\n",
    "\n",
    "smart.rna.mat.m <- as(data.matrix(smart.rna.m[, -1]), 'dgCMatrix')\n",
    "\n",
    "rownames(smart.rna.mat.m) <- format.genes(smart.rna.m[, 1])\n",
    "colnames(smart.rna.mat.m) <- colnames(smart.rna.m)[-1]"
   ]
  },
  {
   "cell_type": "code",
   "execution_count": null,
   "id": "9f407f55",
   "metadata": {},
   "outputs": [],
   "source": [
    "smart.path <- '/gpfs/gibbs/pi/zhao/yw599/Multiome/data/MouseAtlas/RNA/FACS'\n",
    "smart.rna.nm <- read.csv(file.path(smart.path, 'Brain_Non-Myeloid-counts.csv'))\n",
    "\n",
    "smart.rna.mat.nm <- as(data.matrix(smart.rna.nm[, -1]), 'dgCMatrix')\n",
    "\n",
    "rownames(smart.rna.mat.nm) <- format.genes(smart.rna.nm[, 1])\n",
    "colnames(smart.rna.mat.nm) <- colnames(smart.rna.nm)[-1]"
   ]
  },
  {
   "cell_type": "code",
   "execution_count": null,
   "id": "34dae9d0",
   "metadata": {},
   "outputs": [],
   "source": [
    "identical(rownames(smart.rna.mat.m), rownames(smart.rna.mat.nm))"
   ]
  },
  {
   "cell_type": "code",
   "execution_count": null,
   "id": "4113186f",
   "metadata": {},
   "outputs": [],
   "source": [
    "any(duplicated(colnames(smart.rna.mat.m), colnames(smart.rna.mat.nm)))"
   ]
  },
  {
   "cell_type": "code",
   "execution_count": null,
   "id": "e0e05c4e",
   "metadata": {},
   "outputs": [],
   "source": [
    "smart.rna.mat <- cbind(smart.rna.mat.m, smart.rna.mat.nm)"
   ]
  },
  {
   "cell_type": "code",
   "execution_count": null,
   "id": "04ab6ddb",
   "metadata": {},
   "outputs": [],
   "source": [
    "print.count.dim(smart.rna.mat.m)\n",
    "print.count.dim(smart.rna.mat.nm)\n",
    "print.count.dim(smart.rna.mat)"
   ]
  },
  {
   "cell_type": "code",
   "execution_count": null,
   "id": "8a2634b2",
   "metadata": {},
   "outputs": [],
   "source": [
    "facs.anno.file <- '/gpfs/gibbs/pi/zhao/yw599/Multiome/data/MouseAtlas/RNA/annotations_facs_brain.csv'\n",
    "facs.anno.table <- read.csv(facs.anno.file)"
   ]
  },
  {
   "cell_type": "code",
   "execution_count": null,
   "id": "6e0a5595",
   "metadata": {},
   "outputs": [],
   "source": [
    "facs.count <- smart.rna.mat\n",
    "print.names.match(colnames(facs.count), facs.anno.table$cell)"
   ]
  },
  {
   "cell_type": "code",
   "execution_count": null,
   "id": "ea476245",
   "metadata": {},
   "outputs": [],
   "source": [
    "facs.count <- facs.count[, facs.anno.table$cell]\n",
    "facs.anno <- facs.anno.table$annotation"
   ]
  },
  {
   "cell_type": "code",
   "execution_count": null,
   "id": "5434d1e5",
   "metadata": {},
   "outputs": [],
   "source": [
    "print.count.dim(facs.count)"
   ]
  },
  {
   "cell_type": "markdown",
   "id": "83047800",
   "metadata": {},
   "source": [
    "## 2.  Unimodal gene activity (sci-ATAC-seq)"
   ]
  },
  {
   "cell_type": "code",
   "execution_count": null,
   "id": "466bc60c",
   "metadata": {},
   "outputs": [],
   "source": [
    "sci.ga.path <- '/gpfs/gibbs/pi/zhao/yw599/Multiome/data/MouseAtlas/ATAC'\n",
    "sci.ga.mat <- readMM(file.path(sci.ga.path, 'activity_scores.quantitative.mtx.gz'))\n",
    "sci.ga.genes <- readLines(file.path(sci.ga.path, 'activity_scores.quantitative.genes.txt'))\n",
    "sci.ga.cells <- readLines(file.path(sci.ga.path, 'activity_scores.quantitative.cells.txt'))"
   ]
  },
  {
   "cell_type": "code",
   "execution_count": null,
   "id": "198256d5",
   "metadata": {},
   "outputs": [],
   "source": [
    "any(duplicated(format.genes(sci.ga.genes)))"
   ]
  },
  {
   "cell_type": "code",
   "execution_count": null,
   "id": "d6d5b2bf",
   "metadata": {},
   "outputs": [],
   "source": [
    "sci.ga.mat <- set.names(counts = sci.ga.mat, rowname = format.genes(sci.ga.genes), colname = sci.ga.cells)"
   ]
  },
  {
   "cell_type": "code",
   "execution_count": null,
   "id": "7358956d",
   "metadata": {},
   "outputs": [],
   "source": [
    "sci.ga.annot <- read.csv(file.path(sci.ga.path, 'cell_metadata.tissue_freq_filtered_brain.txt'))"
   ]
  },
  {
   "cell_type": "code",
   "execution_count": null,
   "id": "dd3bed8e",
   "metadata": {},
   "outputs": [],
   "source": [
    "any(duplicated(sci.ga.annot$cell))"
   ]
  },
  {
   "cell_type": "code",
   "execution_count": null,
   "id": "7b0db967",
   "metadata": {
    "scrolled": true
   },
   "outputs": [],
   "source": [
    "unique(sci.ga.annot$tissue)"
   ]
  },
  {
   "cell_type": "code",
   "execution_count": null,
   "id": "e7e8a5a2",
   "metadata": {},
   "outputs": [],
   "source": [
    "print.names.match(sci.ga.annot$cell, colnames(sci.ga.mat))"
   ]
  },
  {
   "cell_type": "code",
   "execution_count": 19,
   "id": "8836d304",
   "metadata": {},
   "outputs": [],
   "source": [
    "sci.ga.mat <- sci.ga.mat[, sci.ga.annot$cell]"
   ]
  },
  {
   "cell_type": "markdown",
   "id": "2b031cb6",
   "metadata": {},
   "source": [
    "## 3. Align unimodal RNA and ATAC gene activities\n",
    "gene names  \n",
    "cell types  "
   ]
  },
  {
   "cell_type": "code",
   "execution_count": 20,
   "id": "699a0699",
   "metadata": {},
   "outputs": [
    {
     "name": "stdout",
     "output_type": "stream",
     "text": [
      "[1] \"Length1, Length2, Length intersection:\"\n",
      "[1] \"23433 20783 17165\"\n"
     ]
    }
   ],
   "source": [
    "print.names.match(rownames(facs.count), rownames(sci.ga.mat))"
   ]
  },
  {
   "cell_type": "code",
   "execution_count": 21,
   "id": "0fadc769",
   "metadata": {},
   "outputs": [
    {
     "data": {
      "text/html": [
       "<style>\n",
       ".list-inline {list-style: none; margin:0; padding: 0}\n",
       ".list-inline>li {display: inline-block}\n",
       ".list-inline>li:not(:last-child)::after {content: \"\\00b7\"; padding: 0 .5ex}\n",
       "</style>\n",
       "<ol class=list-inline><li>'Astrocyte'</li><li>'Endothelial cell'</li><li>'Macrophage'</li><li>'Microglia'</li><li>'Neuron'</li><li>'Oligodendrocyte'</li><li>'OPC'</li><li>'Pericyte'</li></ol>\n"
      ],
      "text/latex": [
       "\\begin{enumerate*}\n",
       "\\item 'Astrocyte'\n",
       "\\item 'Endothelial cell'\n",
       "\\item 'Macrophage'\n",
       "\\item 'Microglia'\n",
       "\\item 'Neuron'\n",
       "\\item 'Oligodendrocyte'\n",
       "\\item 'OPC'\n",
       "\\item 'Pericyte'\n",
       "\\end{enumerate*}\n"
      ],
      "text/markdown": [
       "1. 'Astrocyte'\n",
       "2. 'Endothelial cell'\n",
       "3. 'Macrophage'\n",
       "4. 'Microglia'\n",
       "5. 'Neuron'\n",
       "6. 'Oligodendrocyte'\n",
       "7. 'OPC'\n",
       "8. 'Pericyte'\n",
       "\n",
       "\n"
      ],
      "text/plain": [
       "[1] \"Astrocyte\"        \"Endothelial cell\" \"Macrophage\"       \"Microglia\"       \n",
       "[5] \"Neuron\"           \"Oligodendrocyte\"  \"OPC\"              \"Pericyte\"        "
      ]
     },
     "metadata": {},
     "output_type": "display_data"
    }
   ],
   "source": [
    "sort(unique(facs.anno))"
   ]
  },
  {
   "cell_type": "code",
   "execution_count": 22,
   "id": "04815e57",
   "metadata": {},
   "outputs": [
    {
     "data": {
      "text/html": [
       "<style>\n",
       ".list-inline {list-style: none; margin:0; padding: 0}\n",
       ".list-inline>li {display: inline-block}\n",
       ".list-inline>li:not(:last-child)::after {content: \"\\00b7\"; padding: 0 .5ex}\n",
       "</style>\n",
       "<ol class=list-inline><li>'Astrocyte'</li><li>'Collision'</li><li>'Endothelial cell'</li><li>'Microglia'</li><li>'Neuron'</li><li>'Oligodendrocyte'</li><li>'Unknown'</li></ol>\n"
      ],
      "text/latex": [
       "\\begin{enumerate*}\n",
       "\\item 'Astrocyte'\n",
       "\\item 'Collision'\n",
       "\\item 'Endothelial cell'\n",
       "\\item 'Microglia'\n",
       "\\item 'Neuron'\n",
       "\\item 'Oligodendrocyte'\n",
       "\\item 'Unknown'\n",
       "\\end{enumerate*}\n"
      ],
      "text/markdown": [
       "1. 'Astrocyte'\n",
       "2. 'Collision'\n",
       "3. 'Endothelial cell'\n",
       "4. 'Microglia'\n",
       "5. 'Neuron'\n",
       "6. 'Oligodendrocyte'\n",
       "7. 'Unknown'\n",
       "\n",
       "\n"
      ],
      "text/plain": [
       "[1] \"Astrocyte\"        \"Collision\"        \"Endothelial cell\" \"Microglia\"       \n",
       "[5] \"Neuron\"           \"Oligodendrocyte\"  \"Unknown\"         "
      ]
     },
     "metadata": {},
     "output_type": "display_data"
    }
   ],
   "source": [
    "sort(unique(sci.ga.annot$annotation))"
   ]
  },
  {
   "cell_type": "code",
   "execution_count": 23,
   "id": "e44ee787",
   "metadata": {},
   "outputs": [
    {
     "name": "stdout",
     "output_type": "stream",
     "text": [
      "[1] \"Length1, Length2, Length intersection:\"\n",
      "[1] \"8 7 5\"\n"
     ]
    }
   ],
   "source": [
    "print.names.match(unique(facs.anno), unique(sci.ga.annot$annotation))"
   ]
  },
  {
   "cell_type": "code",
   "execution_count": 24,
   "id": "df1e0038",
   "metadata": {},
   "outputs": [
    {
     "name": "stderr",
     "output_type": "stream",
     "text": [
      "Warning message in dir.create(folder, recursive = TRUE):\n",
      "\"'brain/FACS' already exists\"\n",
      "Warning message in dir.create(folder, recursive = TRUE):\n",
      "\"'brain/FACS' already exists\"\n"
     ]
    }
   ],
   "source": [
    "facs.path <- 'brain/FACS/'\n",
    "write.counts.transpose(facs.count, facs.path)\n",
    "write.annotation(facs.anno, facs.path)"
   ]
  },
  {
   "cell_type": "code",
   "execution_count": 25,
   "id": "2daca83a",
   "metadata": {},
   "outputs": [
    {
     "name": "stderr",
     "output_type": "stream",
     "text": [
      "Warning message in dir.create(folder, recursive = TRUE):\n",
      "\"'brain/sci-atac_gene_activities' already exists\"\n",
      "Warning message in dir.create(folder, recursive = TRUE):\n",
      "\"'brain/sci-atac_gene_activities' already exists\"\n"
     ]
    }
   ],
   "source": [
    "sci.ga.path <- 'brain/sci-atac-gene-activities/'\n",
    "write.counts.transpose(sci.ga.mat, sci.ga.path)\n",
    "write.annotation(sci.ga.annot$annotation, sci.ga.path)"
   ]
  },
  {
   "cell_type": "markdown",
   "id": "fb8fbc5a",
   "metadata": {},
   "source": [
    "## 4. Unimodal ATAC (sci-ATAC-seq)"
   ]
  },
  {
   "cell_type": "code",
   "execution_count": 26,
   "id": "24437be2",
   "metadata": {},
   "outputs": [],
   "source": [
    "atac.peak.path = 'tmp/sci_atac'\n",
    "system(paste0('mkdir -p ', atac.peak.path))\n",
    "atac.bin.path <- \"/gpfs/gibbs/pi/zhao/yw599/Multiome/data/MouseAtlas/ATAC/atac_matrix.binary.qc_filtered.mtx.gz\""
   ]
  },
  {
   "cell_type": "code",
   "execution_count": 27,
   "id": "a806f54e",
   "metadata": {},
   "outputs": [],
   "source": [
    "system(paste0('bash bin2int_mtx.sh -z -i ', atac.bin.path, ' -o ', atac.peak.path, '/counts_int.mtx'))"
   ]
  },
  {
   "cell_type": "code",
   "execution_count": null,
   "id": "aaf05dba",
   "metadata": {},
   "outputs": [],
   "source": [
    "sci.atac.path <- '/gpfs/gibbs/pi/zhao/yw599/Multiome/data/MouseAtlas/ATAC/'\n",
    "sci.atac.counts <- readMM(file.path(atac.peak.path, 'counts_int.mtx'))\n",
    "sci.atac.barcodes <- readLines(file.path(sci.atac.path, 'atac_matrix.binary.qc_filtered.cells.txt'))\n",
    "sci.atac.peaks <- readLines(file.path(sci.atac.path, 'atac_matrix.binary.qc_filtered.peaks.txt'))"
   ]
  },
  {
   "cell_type": "code",
   "execution_count": null,
   "id": "6fb01b12",
   "metadata": {},
   "outputs": [],
   "source": [
    "sci.atac.counts <- set.names(counts = sci.atac.counts, rowname = format.peaks(sci.atac.peaks), colname = sci.atac.barcodes)"
   ]
  },
  {
   "cell_type": "code",
   "execution_count": null,
   "id": "0727bec3",
   "metadata": {},
   "outputs": [],
   "source": [
    "sci.atac.annot <- read.csv(file.path(sci.atac.path, 'cell_metadata.tissue_freq_filtered_brain.txt'))"
   ]
  },
  {
   "cell_type": "code",
   "execution_count": null,
   "id": "50f41cdf",
   "metadata": {
    "scrolled": true
   },
   "outputs": [],
   "source": [
    "any(duplicated(sci.atac.annot$cell))"
   ]
  },
  {
   "cell_type": "code",
   "execution_count": null,
   "id": "bfdedad7",
   "metadata": {},
   "outputs": [],
   "source": [
    "unique(sci.atac.annot$tissue)"
   ]
  },
  {
   "cell_type": "code",
   "execution_count": null,
   "id": "da473d76",
   "metadata": {
    "scrolled": true
   },
   "outputs": [],
   "source": [
    "print.names.match(sci.atac.annot$cell, colnames(sci.atac.counts))"
   ]
  },
  {
   "cell_type": "code",
   "execution_count": null,
   "id": "238fba4e",
   "metadata": {},
   "outputs": [],
   "source": [
    "sci.atac.counts <- sci.atac.counts[, sci.atac.annot$cell]"
   ]
  },
  {
   "cell_type": "code",
   "execution_count": null,
   "id": "ca7f135d",
   "metadata": {},
   "outputs": [],
   "source": [
    "identical(colnames(sci.atac.counts), colnames(sci.ga.mat))"
   ]
  },
  {
   "cell_type": "code",
   "execution_count": null,
   "id": "4b64dd0d",
   "metadata": {},
   "outputs": [],
   "source": [
    "sci.atac.path <- 'brain/sci-atac'\n",
    "write.counts.transpose(sci.atac.counts, sci.atac.path)\n",
    "write.annotation(sci.atac.annot$annotation, sci.atac.path)"
   ]
  },
  {
   "cell_type": "markdown",
   "id": "683214af",
   "metadata": {},
   "source": [
    "## 5. Unimodal ATAC fragment file"
   ]
  },
  {
   "cell_type": "code",
   "execution_count": 48,
   "id": "f4ff9646",
   "metadata": {},
   "outputs": [],
   "source": [
    "frag.path <- \"/gpfs/gibbs/pi/zhao/yw599/Multiome/data/MouseAtlas/ATAC/fragment_mm10\"\n",
    "frag.files <- c(\n",
    "                Cerebellum_62216 = \"Cerebellum_62216.split.q10.fragments.sort.bed.gz\",\n",
    "                WholeBrainA_62216 = \"WholeBrainA_62216.split.q10.fragments.sort.bed.gz\",\n",
    "                PreFrontalCortex_62216 = \"PreFrontalCortex_62216.split.q10.fragments.sort.bed.gz\",\n",
    "                WholeBrainA_62816 = \"WholeBrainA_62816.split.q10.fragments.sort.bed.gz\"\n",
    "                )"
   ]
  },
  {
   "cell_type": "code",
   "execution_count": null,
   "id": "d9b91d6f",
   "metadata": {},
   "outputs": [],
   "source": [
    "# need to change space to \\t? first do not change, see if it works.\n",
    "# system(paste('bash frag_prep.sh -i', infile, '-o', outfolder, '-z', '-s', sep=' '))"
   ]
  },
  {
   "cell_type": "markdown",
   "id": "1705de42",
   "metadata": {},
   "source": [
    "## 6. Multi ATAC preprocess: fix peaks"
   ]
  },
  {
   "cell_type": "markdown",
   "id": "fd5e0c2d",
   "metadata": {},
   "source": [
    "### 6.1 SHARE-seq"
   ]
  },
  {
   "cell_type": "code",
   "execution_count": 40,
   "id": "7d68b229",
   "metadata": {},
   "outputs": [],
   "source": [
    "share.path <- '/gpfs/gibbs/pi/zhao/yw599/Multiome/data/SHARE-seq/brain/'\n",
    "# format peak names.\n",
    "system('mkdir -p brain/share/tmp/ATAC')\n",
    "system(paste('zcat', file.path(share.path, 'GSM4156599_brain.peaks.bed.gz'), '| sed -E \\'s/\\\\s+/-/g\\' > brain/share/tmp/ATAC/peaks.txt', sep=' '))"
   ]
  },
  {
   "cell_type": "code",
   "execution_count": 41,
   "id": "be04c6b1",
   "metadata": {},
   "outputs": [],
   "source": [
    "share.atac.counts <- readMM(file.path(share.path, 'GSM4156599_brain.counts.txt.gz'))\n",
    "share.atac.barcodes <- readLines(file.path(share.path, 'GSM4156599_brain.barcodes.txt.gz'))\n",
    "share.atac.peaks <- readLines('brain/share/tmp/ATAC/peaks.txt')\n",
    "share.atac.barcodes <- format.barcode(share.atac.barcodes)"
   ]
  },
  {
   "cell_type": "code",
   "execution_count": 42,
   "id": "697691aa",
   "metadata": {},
   "outputs": [
    {
     "data": {
      "text/html": [
       "FALSE"
      ],
      "text/latex": [
       "FALSE"
      ],
      "text/markdown": [
       "FALSE"
      ],
      "text/plain": [
       "[1] FALSE"
      ]
     },
     "metadata": {},
     "output_type": "display_data"
    }
   ],
   "source": [
    "any(duplicated(share.atac.barcodes))"
   ]
  },
  {
   "cell_type": "code",
   "execution_count": 43,
   "id": "de727078",
   "metadata": {},
   "outputs": [],
   "source": [
    "share.atac.counts <- set.names(counts = share.atac.counts, rowname = share.atac.peaks, colname = share.atac.barcodes)"
   ]
  },
  {
   "cell_type": "markdown",
   "id": "edcb3f7d",
   "metadata": {},
   "source": [
    "### 6.2 SNARE-seq"
   ]
  },
  {
   "cell_type": "code",
   "execution_count": 14,
   "id": "645ff81f",
   "metadata": {},
   "outputs": [],
   "source": [
    "snare.path <- '/gpfs/gibbs/pi/zhao/yw599/Multiome/data/SNARE-seq/ATAC'\n",
    "# format peak names.\n",
    "system('mkdir -p brain/snare/tmp/ATAC')\n",
    "system(paste('zcat', file.path(snare.path, 'ATAC', 'GSE126074_AdBrainCortex_SNAREseq_chromatin.peaks.tsv.gz'), '| sed -E \\'s/\\\\s+|:/-/g\\' > brain/snare/tmp/ATAC/peaks.txt', sep=' ')) # change : to -"
   ]
  },
  {
   "cell_type": "code",
   "execution_count": 5,
   "id": "5a3af0b7",
   "metadata": {},
   "outputs": [],
   "source": [
    "snare.atac.counts <- readMM(file.path(snare.path, 'GSE126074_AdBrainCortex_SNAREseq_chromatin.counts.mtx.gz'))\n",
    "snare.atac.barcodes <- readLines(file.path(snare.path, 'GSE126074_AdBrainCortex_SNAREseq_chromatin.barcodes.tsv.gz'))\n",
    "snare.atac.peaks <- readLines('brain/snare/tmp/ATAC/peaks.txt')"
   ]
  },
  {
   "cell_type": "code",
   "execution_count": 6,
   "id": "d9e6be08",
   "metadata": {},
   "outputs": [
    {
     "data": {
      "text/html": [
       "FALSE"
      ],
      "text/latex": [
       "FALSE"
      ],
      "text/markdown": [
       "FALSE"
      ],
      "text/plain": [
       "[1] FALSE"
      ]
     },
     "metadata": {},
     "output_type": "display_data"
    }
   ],
   "source": [
    "any(duplicated(snare.atac.barcodes))"
   ]
  },
  {
   "cell_type": "code",
   "execution_count": 11,
   "id": "dcfac744",
   "metadata": {},
   "outputs": [],
   "source": [
    "snare.atac.counts <- set.names(counts = snare.atac.counts, rowname = snare.atac.peaks, colname = snare.atac.barcodes)"
   ]
  },
  {
   "cell_type": "markdown",
   "id": "96a301ee",
   "metadata": {},
   "source": [
    "## 7. Multi RNA preprocess"
   ]
  },
  {
   "cell_type": "markdown",
   "id": "b5b52dbe",
   "metadata": {},
   "source": [
    "### 7.1 SHARE-seq"
   ]
  },
  {
   "cell_type": "code",
   "execution_count": null,
   "id": "3d1e362b",
   "metadata": {},
   "outputs": [],
   "source": [
    "share.rna.counts <- read.table(gzfile(file.path(share.path, 'GSM4156610_brain.rna.counts.txt.gz')), header=TRUE)\n",
    "rownames(share.rna.counts) <- share.rna.counts$gene\n",
    "share.rna.counts <- as(as.matrix(share.rna.counts[, -1]), 'dgCMatrix')\n",
    "rownames(share.rna.counts) <- format.genes(rownames(share.rna.counts))\n",
    "colnames(share.rna.counts) <- format.barcode(colnames(share.rna.counts))"
   ]
  },
  {
   "cell_type": "markdown",
   "id": "3337a812",
   "metadata": {},
   "source": [
    "#### Check if feature sets have large overlap with single RNA"
   ]
  },
  {
   "cell_type": "code",
   "execution_count": 11,
   "id": "b35061f1",
   "metadata": {},
   "outputs": [
    {
     "name": "stderr",
     "output_type": "stream",
     "text": [
      "Warning message:\n",
      "\"Feature names cannot have underscores ('_'), replacing with dashes ('-')\"\n"
     ]
    }
   ],
   "source": [
    "# facs.path <- 'brain/FACS/'\n",
    "# facs.count <- load.rna.folder(facs.path)"
   ]
  },
  {
   "cell_type": "code",
   "execution_count": 12,
   "id": "250389d5",
   "metadata": {},
   "outputs": [
    {
     "name": "stdout",
     "output_type": "stream",
     "text": [
      "[1] \"Length1, Length2, Length intersection:\"\n",
      "[1] \"21127 23433 16304\"\n"
     ]
    }
   ],
   "source": [
    "print.names.match(rownames(share.rna.counts), rownames(facs.count))"
   ]
  },
  {
   "cell_type": "markdown",
   "id": "d2f510ac",
   "metadata": {},
   "source": [
    "### 7.2 SNARE-seq"
   ]
  },
  {
   "cell_type": "code",
   "execution_count": 24,
   "id": "b8f82b75",
   "metadata": {
    "scrolled": true
   },
   "outputs": [],
   "source": [
    "snare.rna.counts <- readMM(file.path(snare.path, 'RNA' ,'GSE126074_AdBrainCortex_SNAREseq_cDNA.counts.mtx.gz'))\n",
    "snare.rna.barcode <- readLines(file.path(snare.path, 'RNA', 'GSE126074_AdBrainCortex_SNAREseq_cDNA.barcodes.tsv.gz'))\n",
    "snare.rna.gene <- readLines(file.path(snare.path, 'RNA', 'GSE126074_AdBrainCortex_SNAREseq_cDNA.genes.tsv.gz'))"
   ]
  },
  {
   "cell_type": "code",
   "execution_count": 25,
   "id": "e5194dc5",
   "metadata": {},
   "outputs": [
    {
     "data": {
      "text/html": [
       "TRUE"
      ],
      "text/latex": [
       "TRUE"
      ],
      "text/markdown": [
       "TRUE"
      ],
      "text/plain": [
       "[1] TRUE"
      ]
     },
     "metadata": {},
     "output_type": "display_data"
    }
   ],
   "source": [
    "any(duplicated(format.genes(snare.rna.gene)))"
   ]
  },
  {
   "cell_type": "code",
   "execution_count": 26,
   "id": "6e2b8b9c",
   "metadata": {},
   "outputs": [],
   "source": [
    "dupl.id <- (1:length(snare.rna.gene))[duplicated(format.genes(snare.rna.gene))]"
   ]
  },
  {
   "cell_type": "code",
   "execution_count": 29,
   "id": "96df1741",
   "metadata": {},
   "outputs": [
    {
     "data": {
      "text/html": [
       "'PISD-PS1'"
      ],
      "text/latex": [
       "'PISD-PS1'"
      ],
      "text/markdown": [
       "'PISD-PS1'"
      ],
      "text/plain": [
       "[1] \"PISD-PS1\""
      ]
     },
     "metadata": {},
     "output_type": "display_data"
    }
   ],
   "source": [
    "snare.rna.gene[dupl.id]"
   ]
  },
  {
   "cell_type": "code",
   "execution_count": 27,
   "id": "6fdea3ec",
   "metadata": {},
   "outputs": [],
   "source": [
    "# drop duplicated gene name.\n",
    "snare.rna.gene <- format.genes(snare.rna.gene[-dupl.id])\n",
    "snare.rna.counts <- snare.rna.counts[-dupl.id, ]"
   ]
  },
  {
   "cell_type": "code",
   "execution_count": 28,
   "id": "f81eb5ec",
   "metadata": {},
   "outputs": [],
   "source": [
    "snare.rna.counts <- set.names(counts = snare.rna.counts, rowname = format.genes(snare.rna.gene), colname = format.barcode(snare.rna.barcode))"
   ]
  },
  {
   "cell_type": "code",
   "execution_count": 30,
   "id": "eead4506",
   "metadata": {},
   "outputs": [
    {
     "name": "stderr",
     "output_type": "stream",
     "text": [
      "Warning message:\n",
      "\"Feature names cannot have underscores ('_'), replacing with dashes ('-')\"\n"
     ]
    }
   ],
   "source": [
    "facs.path <- 'brain/FACS/'\n",
    "facs.count <- load.rna.folder(facs.path)"
   ]
  },
  {
   "cell_type": "code",
   "execution_count": 31,
   "id": "62a9f19c",
   "metadata": {},
   "outputs": [
    {
     "name": "stdout",
     "output_type": "stream",
     "text": [
      "[1] \"Length1, Length2, Length intersection:\"\n",
      "[1] \"33159 23433 18323\"\n"
     ]
    }
   ],
   "source": [
    "print.names.match(rownames(snare.rna.counts), rownames(facs.count))"
   ]
  },
  {
   "cell_type": "markdown",
   "id": "4266475b",
   "metadata": {},
   "source": [
    "## 8. Align multi ATAC RNA"
   ]
  },
  {
   "cell_type": "markdown",
   "id": "43ce675b",
   "metadata": {},
   "source": [
    "trans table is for frag barcode remapping, no need for rna.  \n",
    "but need to make sure they contain the same cells."
   ]
  },
  {
   "cell_type": "markdown",
   "id": "5363c0c5",
   "metadata": {},
   "source": [
    "### 8.1. SHARE-seq"
   ]
  },
  {
   "cell_type": "code",
   "execution_count": 56,
   "id": "9d00f350",
   "metadata": {},
   "outputs": [],
   "source": [
    "# trans.tab <- read.table(gzfile(file.path(share.path, 'GSM4156599_brain_celltype.txt.gz')), header=TRUE)\n",
    "# trans.tab$atac.bc <- format.barcode(trans.tab$atac.bc)\n",
    "# trans.tab$rna.bc <- format.barcode(trans.tab$rna.bc)"
   ]
  },
  {
   "cell_type": "code",
   "execution_count": 9,
   "id": "22602961",
   "metadata": {},
   "outputs": [
    {
     "name": "stdout",
     "output_type": "stream",
     "text": [
      "[1] \"Length1, Length2, Length intersection:\"\n",
      "[1] \"5875 3293 3293\"\n"
     ]
    }
   ],
   "source": [
    "print.names.match(colnames(share.rna.counts), colnames(share.atac.counts))"
   ]
  },
  {
   "cell_type": "code",
   "execution_count": 10,
   "id": "695c22f9",
   "metadata": {},
   "outputs": [],
   "source": [
    "share.rna.counts <- share.rna.counts[, colnames(share.atac.counts)]"
   ]
  },
  {
   "cell_type": "code",
   "execution_count": 11,
   "id": "32f9fd10",
   "metadata": {},
   "outputs": [
    {
     "data": {
      "text/html": [
       "TRUE"
      ],
      "text/latex": [
       "TRUE"
      ],
      "text/markdown": [
       "TRUE"
      ],
      "text/plain": [
       "[1] TRUE"
      ]
     },
     "metadata": {},
     "output_type": "display_data"
    }
   ],
   "source": [
    "identical(colnames(share.rna.counts), colnames(share.atac.counts))"
   ]
  },
  {
   "cell_type": "markdown",
   "id": "2769f68b",
   "metadata": {},
   "source": [
    "### 8.2. SNARE-seq"
   ]
  },
  {
   "cell_type": "code",
   "execution_count": 32,
   "id": "312f02e6",
   "metadata": {},
   "outputs": [
    {
     "name": "stdout",
     "output_type": "stream",
     "text": [
      "[1] \"Length1, Length2, Length intersection:\"\n",
      "[1] \"10309 10309 10309\"\n"
     ]
    }
   ],
   "source": [
    "print.names.match(colnames(snare.rna.counts), colnames(snare.atac.counts))"
   ]
  },
  {
   "cell_type": "code",
   "execution_count": 33,
   "id": "0d4be719",
   "metadata": {},
   "outputs": [],
   "source": [
    "snare.rna.counts <- snare.rna.counts[, colnames(snare.atac.counts)]"
   ]
  },
  {
   "cell_type": "code",
   "execution_count": 34,
   "id": "b6f65847",
   "metadata": {},
   "outputs": [
    {
     "data": {
      "text/html": [
       "TRUE"
      ],
      "text/latex": [
       "TRUE"
      ],
      "text/markdown": [
       "TRUE"
      ],
      "text/plain": [
       "[1] TRUE"
      ]
     },
     "metadata": {},
     "output_type": "display_data"
    }
   ],
   "source": [
    "identical(colnames(snare.rna.counts), colnames(snare.atac.counts))"
   ]
  },
  {
   "cell_type": "markdown",
   "id": "ac4c6cc5",
   "metadata": {},
   "source": [
    "## 9. Map unimodal ATAC peaks to multi ATAC peaks"
   ]
  },
  {
   "cell_type": "code",
   "execution_count": 35,
   "id": "7d90bc6b",
   "metadata": {},
   "outputs": [
    {
     "data": {
      "text/html": [
       "TRUE"
      ],
      "text/latex": [
       "TRUE"
      ],
      "text/markdown": [
       "TRUE"
      ],
      "text/plain": [
       "[1] TRUE"
      ]
     },
     "metadata": {},
     "output_type": "display_data"
    }
   ],
   "source": [
    "# load results of previous steps because the program quitted.\n",
    "sci.atac.data <- load.data.folder('brain/sci-atac')\n",
    "\n",
    "sci.atac.counts <- sci.atac.data$counts\n",
    "sci.atac.annota <- sci.atac.data$annotations\n",
    "\n",
    "atac.peak.path = 'tmp/sci_atac'\n",
    "sci.atac.path <- '/gpfs/gibbs/pi/zhao/yw599/Multiome/data/MouseAtlas/ATAC/'\n",
    "sci.atac.annot <- read.csv(file.path(sci.atac.path, 'cell_metadata.tissue_freq_filtered_brain.txt'))\n",
    "\n",
    "ann <- (sci.atac.annota)\n",
    "names(ann) <- NULL\n",
    "identical(ann, sci.atac.annot$annotation)"
   ]
  },
  {
   "cell_type": "code",
   "execution_count": 36,
   "id": "98e05c04",
   "metadata": {},
   "outputs": [
    {
     "data": {
      "text/html": [
       "<style>\n",
       ".list-inline {list-style: none; margin:0; padding: 0}\n",
       ".list-inline>li {display: inline-block}\n",
       ".list-inline>li:not(:last-child)::after {content: \"\\00b7\"; padding: 0 .5ex}\n",
       "</style>\n",
       "<ol class=list-inline><li>'WholeBrainA_62816'</li><li>'Cerebellum_62216'</li><li>'WholeBrainA_62216'</li><li>'PreFrontalCortex_62216'</li></ol>\n"
      ],
      "text/latex": [
       "\\begin{enumerate*}\n",
       "\\item 'WholeBrainA\\_62816'\n",
       "\\item 'Cerebellum\\_62216'\n",
       "\\item 'WholeBrainA\\_62216'\n",
       "\\item 'PreFrontalCortex\\_62216'\n",
       "\\end{enumerate*}\n"
      ],
      "text/markdown": [
       "1. 'WholeBrainA_62816'\n",
       "2. 'Cerebellum_62216'\n",
       "3. 'WholeBrainA_62216'\n",
       "4. 'PreFrontalCortex_62216'\n",
       "\n",
       "\n"
      ],
      "text/plain": [
       "[1] \"WholeBrainA_62816\"      \"Cerebellum_62216\"       \"WholeBrainA_62216\"     \n",
       "[4] \"PreFrontalCortex_62216\""
      ]
     },
     "metadata": {},
     "output_type": "display_data"
    }
   ],
   "source": [
    "unique(sci.atac.annot$tissue.replicate)"
   ]
  },
  {
   "cell_type": "code",
   "execution_count": 38,
   "id": "57927703",
   "metadata": {
    "scrolled": true
   },
   "outputs": [
    {
     "name": "stderr",
     "output_type": "stream",
     "text": [
      "Fetching data...\n",
      "OK\n",
      "\n",
      "Parsing exons...\n",
      "OK\n",
      "Defining introns...\n",
      "OK\n",
      "Defining UTRs...\n",
      "OK\n",
      "Defining CDS...\n",
      "OK\n",
      "\n",
      "aggregating...\n",
      "\n",
      "Done\n",
      "\n",
      "Fetching data...\n",
      "OK\n",
      "\n",
      "Parsing exons...\n",
      "OK\n",
      "Defining introns...\n",
      "OK\n",
      "Defining UTRs...\n",
      "OK\n",
      "Defining CDS...\n",
      "OK\n",
      "\n",
      "aggregating...\n",
      "\n",
      "Done\n",
      "\n",
      "Fetching data...\n",
      "OK\n",
      "\n",
      "Parsing exons...\n",
      "OK\n",
      "Defining introns...\n",
      "OK\n",
      "Defining UTRs...\n",
      "OK\n",
      "Defining CDS...\n",
      "OK\n",
      "\n",
      "aggregating...\n",
      "\n",
      "Done\n",
      "\n",
      "Fetching data...\n",
      "OK\n",
      "\n",
      "Parsing exons...\n",
      "OK\n",
      "Defining introns...\n",
      "OK\n",
      "Defining UTRs...\n",
      "OK\n",
      "Defining CDS...\n",
      "OK\n",
      "\n",
      "aggregating...\n",
      "\n",
      "Done\n",
      "\n",
      "Fetching data...\n",
      "OK\n",
      "\n",
      "Parsing exons...\n",
      "OK\n",
      "Defining introns...\n",
      "OK\n",
      "Defining UTRs...\n",
      "OK\n",
      "Defining CDS...\n",
      "OK\n",
      "\n",
      "aggregating...\n",
      "\n",
      "Done\n",
      "\n",
      "Fetching data...\n",
      "OK\n",
      "\n",
      "Parsing exons...\n",
      "OK\n",
      "Defining introns...\n",
      "OK\n",
      "Defining UTRs...\n",
      "OK\n",
      "Defining CDS...\n",
      "OK\n",
      "\n",
      "aggregating...\n",
      "\n",
      "Done\n",
      "\n",
      "Fetching data...\n",
      "OK\n",
      "\n",
      "Parsing exons...\n",
      "OK\n",
      "Defining introns...\n",
      "OK\n",
      "Defining UTRs...\n",
      "OK\n",
      "Defining CDS...\n",
      "OK\n",
      "\n",
      "aggregating...\n",
      "\n",
      "Done\n",
      "\n",
      "Fetching data...\n",
      "OK\n",
      "\n",
      "Parsing exons...\n",
      "OK\n",
      "Defining introns...\n",
      "OK\n",
      "Defining UTRs...\n",
      "OK\n",
      "Defining CDS...\n",
      "OK\n",
      "\n",
      "aggregating...\n",
      "\n",
      "Done\n",
      "\n",
      "Fetching data...\n",
      "OK\n",
      "\n",
      "Parsing exons...\n",
      "OK\n",
      "Defining introns...\n",
      "OK\n",
      "Defining UTRs...\n",
      "OK\n",
      "Defining CDS...\n",
      "OK\n",
      "\n",
      "aggregating...\n",
      "\n",
      "Done\n",
      "\n",
      "Fetching data...\n",
      "OK\n",
      "\n",
      "Parsing exons...\n",
      "OK\n",
      "Defining introns...\n",
      "OK\n",
      "Defining UTRs...\n",
      "OK\n",
      "Defining CDS...\n",
      "OK\n",
      "\n",
      "aggregating...\n",
      "\n",
      "Done\n",
      "\n",
      "Fetching data...\n",
      "OK\n",
      "\n",
      "Parsing exons...\n",
      "OK\n",
      "Defining introns...\n",
      "OK\n",
      "Defining UTRs...\n",
      "OK\n",
      "Defining CDS...\n",
      "OK\n",
      "\n",
      "aggregating...\n",
      "\n",
      "Done\n",
      "\n",
      "Fetching data...\n",
      "OK\n",
      "\n",
      "Parsing exons...\n",
      "OK\n",
      "Defining introns...\n",
      "OK\n",
      "Defining UTRs...\n",
      "OK\n",
      "Defining CDS...\n",
      "OK\n",
      "\n",
      "aggregating...\n",
      "\n",
      "Done\n",
      "\n",
      "Fetching data...\n",
      "OK\n",
      "\n",
      "Parsing exons...\n",
      "OK\n",
      "Defining introns...\n",
      "OK\n",
      "Defining UTRs...\n",
      "OK\n",
      "Defining CDS...\n",
      "OK\n",
      "\n",
      "aggregating...\n",
      "\n",
      "Done\n",
      "\n",
      "Fetching data...\n",
      "OK\n",
      "\n",
      "Parsing exons...\n",
      "OK\n",
      "Defining introns...\n",
      "OK\n",
      "Defining UTRs...\n",
      "OK\n",
      "Defining CDS...\n",
      "OK\n",
      "\n",
      "aggregating...\n",
      "\n",
      "Done\n",
      "\n",
      "Fetching data...\n",
      "OK\n",
      "\n",
      "Parsing exons...\n",
      "OK\n",
      "Defining introns...\n",
      "OK\n",
      "Defining UTRs...\n",
      "OK\n",
      "Defining CDS...\n",
      "OK\n",
      "\n",
      "aggregating...\n",
      "\n",
      "Done\n",
      "\n",
      "Fetching data...\n",
      "OK\n",
      "\n",
      "Parsing exons...\n",
      "OK\n",
      "Defining introns...\n",
      "OK\n",
      "Defining UTRs...\n",
      "OK\n",
      "Defining CDS...\n",
      "OK\n",
      "\n",
      "aggregating...\n",
      "\n",
      "Done\n",
      "\n",
      "Fetching data...\n",
      "OK\n",
      "\n",
      "Parsing exons...\n",
      "OK\n",
      "Defining introns...\n",
      "OK\n",
      "Defining UTRs...\n",
      "OK\n",
      "Defining CDS...\n",
      "OK\n",
      "\n",
      "aggregating...\n",
      "\n",
      "Done\n",
      "\n",
      "Fetching data...\n",
      "OK\n",
      "\n",
      "Parsing exons...\n",
      "OK\n",
      "Defining introns...\n",
      "OK\n",
      "Defining UTRs...\n",
      "OK\n",
      "Defining CDS...\n",
      "OK\n",
      "\n",
      "aggregating...\n",
      "\n",
      "Done\n",
      "\n",
      "Fetching data...\n",
      "OK\n",
      "\n",
      "Parsing exons...\n",
      "OK\n",
      "Defining introns...\n",
      "OK\n",
      "Defining UTRs...\n",
      "OK\n",
      "Defining CDS...\n",
      "OK\n",
      "\n",
      "aggregating...\n",
      "\n",
      "Done\n",
      "\n",
      "Fetching data...\n",
      "OK\n",
      "\n",
      "Parsing exons...\n",
      "OK\n",
      "Defining introns...\n",
      "OK\n",
      "Defining UTRs...\n",
      "OK\n",
      "Defining CDS...\n",
      "OK\n",
      "\n",
      "aggregating...\n",
      "\n",
      "Done\n",
      "\n",
      "Fetching data...\n",
      "OK\n",
      "\n",
      "Parsing exons...\n",
      "OK\n",
      "Defining introns...\n",
      "OK\n",
      "Defining UTRs...\n",
      "OK\n",
      "Defining CDS...\n",
      "OK\n",
      "\n",
      "aggregating...\n",
      "\n",
      "Done\n",
      "\n",
      "Fetching data...\n",
      "OK\n",
      "\n",
      "Parsing exons...\n",
      "OK\n",
      "Defining introns...\n",
      "OK\n",
      "Defining UTRs...\n",
      "OK\n",
      "Defining CDS...\n",
      "OK\n",
      "\n",
      "aggregating...\n",
      "\n",
      "Done\n",
      "\n",
      "Warning message in .Seqinfo.mergexy(x, y):\n",
      "\"The 2 combined objects have no sequence levels in common. (Use\n",
      "  suppressWarnings() to suppress this warning.)\"\n",
      "Warning message in .Seqinfo.mergexy(x, y):\n",
      "\"The 2 combined objects have no sequence levels in common. (Use\n",
      "  suppressWarnings() to suppress this warning.)\"\n",
      "Warning message in .Seqinfo.mergexy(x, y):\n",
      "\"The 2 combined objects have no sequence levels in common. (Use\n",
      "  suppressWarnings() to suppress this warning.)\"\n",
      "Warning message in .Seqinfo.mergexy(x, y):\n",
      "\"The 2 combined objects have no sequence levels in common. (Use\n",
      "  suppressWarnings() to suppress this warning.)\"\n",
      "Warning message in .Seqinfo.mergexy(x, y):\n",
      "\"The 2 combined objects have no sequence levels in common. (Use\n",
      "  suppressWarnings() to suppress this warning.)\"\n",
      "Warning message in .Seqinfo.mergexy(x, y):\n",
      "\"The 2 combined objects have no sequence levels in common. (Use\n",
      "  suppressWarnings() to suppress this warning.)\"\n",
      "Warning message in .Seqinfo.mergexy(x, y):\n",
      "\"The 2 combined objects have no sequence levels in common. (Use\n",
      "  suppressWarnings() to suppress this warning.)\"\n",
      "Warning message in .Seqinfo.mergexy(x, y):\n",
      "\"The 2 combined objects have no sequence levels in common. (Use\n",
      "  suppressWarnings() to suppress this warning.)\"\n",
      "Warning message in .Seqinfo.mergexy(x, y):\n",
      "\"The 2 combined objects have no sequence levels in common. (Use\n",
      "  suppressWarnings() to suppress this warning.)\"\n",
      "Warning message in .Seqinfo.mergexy(x, y):\n",
      "\"The 2 combined objects have no sequence levels in common. (Use\n",
      "  suppressWarnings() to suppress this warning.)\"\n",
      "Warning message in .Seqinfo.mergexy(x, y):\n",
      "\"The 2 combined objects have no sequence levels in common. (Use\n",
      "  suppressWarnings() to suppress this warning.)\"\n",
      "Warning message in .Seqinfo.mergexy(x, y):\n",
      "\"The 2 combined objects have no sequence levels in common. (Use\n",
      "  suppressWarnings() to suppress this warning.)\"\n",
      "Warning message in .Seqinfo.mergexy(x, y):\n",
      "\"The 2 combined objects have no sequence levels in common. (Use\n",
      "  suppressWarnings() to suppress this warning.)\"\n",
      "Warning message in .Seqinfo.mergexy(x, y):\n",
      "\"The 2 combined objects have no sequence levels in common. (Use\n",
      "  suppressWarnings() to suppress this warning.)\"\n",
      "Warning message in .Seqinfo.mergexy(x, y):\n",
      "\"The 2 combined objects have no sequence levels in common. (Use\n",
      "  suppressWarnings() to suppress this warning.)\"\n",
      "Warning message in .Seqinfo.mergexy(x, y):\n",
      "\"The 2 combined objects have no sequence levels in common. (Use\n",
      "  suppressWarnings() to suppress this warning.)\"\n",
      "Warning message in .Seqinfo.mergexy(x, y):\n",
      "\"The 2 combined objects have no sequence levels in common. (Use\n",
      "  suppressWarnings() to suppress this warning.)\"\n",
      "Warning message in .Seqinfo.mergexy(x, y):\n",
      "\"The 2 combined objects have no sequence levels in common. (Use\n",
      "  suppressWarnings() to suppress this warning.)\"\n",
      "Warning message in .Seqinfo.mergexy(x, y):\n",
      "\"The 2 combined objects have no sequence levels in common. (Use\n",
      "  suppressWarnings() to suppress this warning.)\"\n",
      "Warning message in .Seqinfo.mergexy(x, y):\n",
      "\"The 2 combined objects have no sequence levels in common. (Use\n",
      "  suppressWarnings() to suppress this warning.)\"\n",
      "Warning message in .Seqinfo.mergexy(x, y):\n",
      "\"The 2 combined objects have no sequence levels in common. (Use\n",
      "  suppressWarnings() to suppress this warning.)\"\n"
     ]
    }
   ],
   "source": [
    "library(EnsDb.Mmusculus.v79) # mm10\n",
    "library(Signac)\n",
    "annotations <- GetGRangesFromEnsDb(ensdb = EnsDb.Mmusculus.v79)"
   ]
  },
  {
   "cell_type": "markdown",
   "id": "0311edde",
   "metadata": {},
   "source": [
    "### 9.1. SHARE-seq"
   ]
  },
  {
   "cell_type": "code",
   "execution_count": null,
   "id": "84c1d847",
   "metadata": {},
   "outputs": [],
   "source": [
    "mapped.atac.counts.list <- list()\n",
    "for (tissue in names(frag.files)) {\n",
    "    selected.id <- which(sci.atac.annot$tissue.replicate == tissue)\n",
    "    selected.sci.count <- sci.atac.counts[, selected.id]\n",
    "    selected.frag.path <- file.path(frag.path, frag.files[tissue])\n",
    "    mapped.atac.counts.list[[tissue]] <- map.peaks(selected.sci.count, share.atac.counts, selected.frag.path, annotations)\n",
    "}"
   ]
  },
  {
   "cell_type": "code",
   "execution_count": 127,
   "id": "87ff1e9f",
   "metadata": {},
   "outputs": [],
   "source": [
    "# taking intersection of peaks among tissues\n",
    "intersect.peaks <- rownames(mapped.atac.counts.list[[1]])\n",
    "for (i in 2:length(mapped.atac.counts.list)) {\n",
    "    intersect.peaks <- intersect(intersect.peaks, rownames(mapped.atac.counts.list[[i]]))\n",
    "}\n",
    "\n",
    "for (tissue in names(mapped.atac.counts.list)) {\n",
    "    mapped.atac.counts.list[[tissue]] <- mapped.atac.counts.list[[tissue]][intersect.peaks ,]\n",
    "}\n",
    "\n",
    "mapped.sci.atac.counts <- do.call(cbind, mapped.atac.counts.list)"
   ]
  },
  {
   "cell_type": "code",
   "execution_count": null,
   "id": "bb2e9567",
   "metadata": {},
   "outputs": [],
   "source": [
    "identical(rownames(mapped.sci.atac.counts), rownames(share.atac.counts))"
   ]
  },
  {
   "cell_type": "markdown",
   "id": "f400c2a0",
   "metadata": {},
   "source": [
    "### 9.2. SNARE-seq"
   ]
  },
  {
   "cell_type": "code",
   "execution_count": null,
   "id": "10bb0248",
   "metadata": {},
   "outputs": [],
   "source": [
    "snare.mapped.atac.counts.list <- list()\n",
    "for (tissue in names(frag.files)) {\n",
    "    selected.id <- which(sci.atac.annot$tissue.replicate == tissue)\n",
    "    selected.sci.count <- sci.atac.counts[, selected.id]\n",
    "    selected.frag.path <- file.path(frag.path, frag.files[tissue])\n",
    "    snare.mapped.atac.counts.list[[tissue]] <- map.peaks(selected.sci.count, snare.atac.counts, selected.frag.path, annotations)\n",
    "}"
   ]
  },
  {
   "cell_type": "code",
   "execution_count": 51,
   "id": "a3729ab8",
   "metadata": {},
   "outputs": [],
   "source": [
    "# taking intersection of peaks among tissues\n",
    "intersect.peaks <- rownames(snare.mapped.atac.counts.list[[1]])\n",
    "for (i in 2:length(snare.mapped.atac.counts.list)) {\n",
    "    intersect.peaks <- intersect(intersect.peaks, rownames(snare.mapped.atac.counts.list[[i]]))\n",
    "}\n",
    "\n",
    "for (tissue in names(snare.mapped.atac.counts.list)) {\n",
    "    snare.mapped.atac.counts.list[[tissue]] <- snare.mapped.atac.counts.list[[tissue]][intersect.peaks ,]\n",
    "}\n",
    "\n",
    "snare.mapped.sci.atac.counts <- do.call(cbind, snare.mapped.atac.counts.list)"
   ]
  },
  {
   "cell_type": "code",
   "execution_count": 52,
   "id": "f28279f2",
   "metadata": {},
   "outputs": [
    {
     "data": {
      "text/html": [
       "FALSE"
      ],
      "text/latex": [
       "FALSE"
      ],
      "text/markdown": [
       "FALSE"
      ],
      "text/plain": [
       "[1] FALSE"
      ]
     },
     "metadata": {},
     "output_type": "display_data"
    }
   ],
   "source": [
    "identical(rownames(snare.mapped.sci.atac.counts), rownames(snare.atac.counts))"
   ]
  },
  {
   "cell_type": "code",
   "execution_count": 53,
   "id": "80873bbf",
   "metadata": {},
   "outputs": [
    {
     "name": "stdout",
     "output_type": "stream",
     "text": [
      "[1] \"Length1, Length2, Length intersection:\"\n",
      "[1] \"134968 244544 134968\"\n"
     ]
    }
   ],
   "source": [
    "print.names.match(rownames(snare.mapped.sci.atac.counts), rownames(snare.atac.counts))"
   ]
  },
  {
   "cell_type": "markdown",
   "id": "d128ee70",
   "metadata": {},
   "source": [
    "## 10. Preprocess unimodal atac matched"
   ]
  },
  {
   "cell_type": "markdown",
   "id": "573a77f5",
   "metadata": {},
   "source": [
    "### 10.1 Mapped to SHARE-seq"
   ]
  },
  {
   "cell_type": "code",
   "execution_count": 135,
   "id": "a3392b26",
   "metadata": {},
   "outputs": [
    {
     "name": "stdout",
     "output_type": "stream",
     "text": [
      "[1] \"Length1, Length2, Length intersection:\"\n",
      "[1] \"16874 16874 16874\"\n"
     ]
    }
   ],
   "source": [
    "print.names.match(sci.atac.annot$cell, colnames(mapped.sci.atac.counts))"
   ]
  },
  {
   "cell_type": "code",
   "execution_count": 134,
   "id": "60c747f0",
   "metadata": {},
   "outputs": [
    {
     "data": {
      "text/html": [
       "FALSE"
      ],
      "text/latex": [
       "FALSE"
      ],
      "text/markdown": [
       "FALSE"
      ],
      "text/plain": [
       "[1] FALSE"
      ]
     },
     "metadata": {},
     "output_type": "display_data"
    }
   ],
   "source": [
    "identical(sci.atac.annot$cell, colnames(mapped.sci.atac.counts))"
   ]
  },
  {
   "cell_type": "code",
   "execution_count": 138,
   "id": "d8d83db2",
   "metadata": {},
   "outputs": [],
   "source": [
    "# reorder by annotation file, same as atac before matching to multi peaks.\n",
    "mapped.sci.atac.counts <- mapped.sci.atac.counts[, sci.atac.annot$cell]"
   ]
  },
  {
   "cell_type": "markdown",
   "id": "6a49390f",
   "metadata": {},
   "source": [
    "### 10.2 Mapped to SNARE-seq"
   ]
  },
  {
   "cell_type": "code",
   "execution_count": 54,
   "id": "a8299d39",
   "metadata": {},
   "outputs": [
    {
     "name": "stdout",
     "output_type": "stream",
     "text": [
      "[1] \"Length1, Length2, Length intersection:\"\n",
      "[1] \"16874 16874 16874\"\n"
     ]
    }
   ],
   "source": [
    "print.names.match(sci.atac.annot$cell, colnames(snare.mapped.sci.atac.counts))"
   ]
  },
  {
   "cell_type": "code",
   "execution_count": 55,
   "id": "6c5c3848",
   "metadata": {},
   "outputs": [
    {
     "data": {
      "text/html": [
       "FALSE"
      ],
      "text/latex": [
       "FALSE"
      ],
      "text/markdown": [
       "FALSE"
      ],
      "text/plain": [
       "[1] FALSE"
      ]
     },
     "metadata": {},
     "output_type": "display_data"
    }
   ],
   "source": [
    "identical(sci.atac.annot$cell, colnames(snare.mapped.sci.atac.counts))"
   ]
  },
  {
   "cell_type": "code",
   "execution_count": 56,
   "id": "b6ac303c",
   "metadata": {},
   "outputs": [],
   "source": [
    "# reorder by annotation file, same as atac before matching to multi peaks.\n",
    "snare.mapped.sci.atac.counts <- snare.mapped.sci.atac.counts[, sci.atac.annot$cell]"
   ]
  },
  {
   "cell_type": "code",
   "execution_count": 58,
   "id": "e968e382",
   "metadata": {},
   "outputs": [
    {
     "data": {
      "text/html": [
       "TRUE"
      ],
      "text/latex": [
       "TRUE"
      ],
      "text/markdown": [
       "TRUE"
      ],
      "text/plain": [
       "[1] TRUE"
      ]
     },
     "metadata": {},
     "output_type": "display_data"
    }
   ],
   "source": [
    "identical(sci.atac.annot$cell, colnames(snare.mapped.sci.atac.counts))"
   ]
  },
  {
   "cell_type": "markdown",
   "id": "a8527a1a",
   "metadata": {},
   "source": [
    "## 11. Align unimodal and multi ATAC"
   ]
  },
  {
   "cell_type": "markdown",
   "id": "1fb4ac91",
   "metadata": {},
   "source": [
    "### 11.1 SHARE-seq"
   ]
  },
  {
   "cell_type": "code",
   "execution_count": 146,
   "id": "7ff27ff0",
   "metadata": {},
   "outputs": [
    {
     "name": "stdout",
     "output_type": "stream",
     "text": [
      "[1] \"Length1, Length2, Length intersection:\"\n",
      "[1] \"236580 428041 236580\"\n"
     ]
    }
   ],
   "source": [
    "print.names.match(rownames(mapped.sci.atac.counts), rownames(share.atac.counts))"
   ]
  },
  {
   "cell_type": "code",
   "execution_count": 147,
   "id": "96da4fe6",
   "metadata": {},
   "outputs": [],
   "source": [
    "share.atac.counts <- share.atac.counts[rownames(mapped.sci.atac.counts) ,]"
   ]
  },
  {
   "cell_type": "markdown",
   "id": "4a4c7705",
   "metadata": {},
   "source": [
    "save data"
   ]
  },
  {
   "cell_type": "code",
   "execution_count": 148,
   "id": "5a57075f",
   "metadata": {
    "scrolled": true
   },
   "outputs": [
    {
     "name": "stderr",
     "output_type": "stream",
     "text": [
      "Warning message in dir.create(folder, recursive = TRUE):\n",
      "\"'brain/sci-atac-mapped-peaks' already exists\"\n"
     ]
    }
   ],
   "source": [
    "# single ATAC rematch\n",
    "write.counts.transpose(mapped.sci.atac.counts, 'brain/sci-atac-mapped-peaks-to-share')\n",
    "write.annotation(sci.atac.annot$annotation, 'brain/sci-atac-mapped-peaks-to-share')\n",
    "# share RNA\n",
    "write.counts.transpose(share.rna.counts, 'brain/share/RNA/')\n",
    "# share ATAC\n",
    "write.counts.transpose(share.atac.counts, 'brain/share/ATAC/')"
   ]
  },
  {
   "cell_type": "markdown",
   "id": "48f8a68a",
   "metadata": {},
   "source": [
    "### 11.2 SNARE-seq"
   ]
  },
  {
   "cell_type": "code",
   "execution_count": 59,
   "id": "3f3567bc",
   "metadata": {},
   "outputs": [
    {
     "name": "stdout",
     "output_type": "stream",
     "text": [
      "[1] \"Length1, Length2, Length intersection:\"\n",
      "[1] \"134968 244544 134968\"\n"
     ]
    }
   ],
   "source": [
    "print.names.match(rownames(snare.mapped.sci.atac.counts), rownames(snare.atac.counts))"
   ]
  },
  {
   "cell_type": "code",
   "execution_count": 60,
   "id": "9f350266",
   "metadata": {},
   "outputs": [],
   "source": [
    "snare.atac.counts <- snare.atac.counts[rownames(snare.mapped.sci.atac.counts) ,]"
   ]
  },
  {
   "cell_type": "code",
   "execution_count": 61,
   "id": "01669d2b",
   "metadata": {},
   "outputs": [],
   "source": [
    "# single ATAC rematch\n",
    "write.counts.transpose(snare.mapped.sci.atac.counts, 'brain/sci-atac-mapped-peaks-to-snare')\n",
    "write.annotation(sci.atac.annot$annotation, 'brain/sci-atac-mapped-peaks-to-snare')\n",
    "# share RNA\n",
    "write.counts.transpose(snare.rna.counts, 'brain/snare/RNA/')\n",
    "# share ATAC\n",
    "write.counts.transpose(snare.atac.counts, 'brain/snare/ATAC/')"
   ]
  },
  {
   "cell_type": "code",
   "execution_count": null,
   "id": "462e0dde",
   "metadata": {},
   "outputs": [],
   "source": []
  }
 ],
 "metadata": {
  "kernelspec": {
   "display_name": "R 4.0.3",
   "language": "R",
   "name": "ir"
  },
  "language_info": {
   "codemirror_mode": "r",
   "file_extension": ".r",
   "mimetype": "text/x-r-source",
   "name": "R",
   "pygments_lexer": "r",
   "version": "4.0.3"
  }
 },
 "nbformat": 4,
 "nbformat_minor": 5
}
